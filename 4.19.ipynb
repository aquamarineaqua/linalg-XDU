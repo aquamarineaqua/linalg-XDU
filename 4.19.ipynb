{
 "cells": [
  {
   "cell_type": "code",
   "execution_count": 21,
   "metadata": {},
   "outputs": [
    {
     "data": {
      "text/latex": [
       "$\\displaystyle \\left[\\begin{matrix}1 & 1\\\\2 & 4\\\\3 & 9\\\\4 & 16\\\\5 & 25\\end{matrix}\\right]$"
      ],
      "text/plain": [
       "Matrix([\n",
       "[1,  1],\n",
       "[2,  4],\n",
       "[3,  9],\n",
       "[4, 16],\n",
       "[5, 25]])"
      ]
     },
     "execution_count": 21,
     "metadata": {},
     "output_type": "execute_result"
    }
   ],
   "source": [
    "from sympy import *\n",
    "\n",
    "# 一个实验产生的数据为(1,1.8),(2,2.7),(3，3.4),(4，3.8)和(5，3.9)，描述用下列函数形式生成的最小二乘拟合模型：\n",
    "# y = β1 * x + β2 * x^2\n",
    "# 这种函数会出现在销售的总量影响产品的价格设定时。\n",
    "# a. 给出这模型的设计矩阵，观察向量，和未知参数向量，\n",
    "# b. 找出数据对应的最小二乘曲线。\n",
    "\n",
    "A = Matrix(5,2, lambda i,j: (i+1)**(j+1) )\n",
    "# A为设计矩阵\n",
    "A"
   ]
  },
  {
   "cell_type": "code",
   "execution_count": 22,
   "metadata": {},
   "outputs": [
    {
     "data": {
      "text/latex": [
       "$\\displaystyle \\left[\\begin{matrix}1.8\\\\2.7\\\\3.4\\\\3.8\\\\3.9\\end{matrix}\\right]$"
      ],
      "text/plain": [
       "Matrix([\n",
       "[1.8],\n",
       "[2.7],\n",
       "[3.4],\n",
       "[3.8],\n",
       "[3.9]])"
      ]
     },
     "execution_count": 22,
     "metadata": {},
     "output_type": "execute_result"
    }
   ],
   "source": [
    "B = Matrix([1.8, 2.7, 3.4, 3.8, 3.9])\n",
    "# B为观察向量\n",
    "B"
   ]
  },
  {
   "cell_type": "code",
   "execution_count": 23,
   "metadata": {},
   "outputs": [
    {
     "data": {
      "text/latex": [
       "$\\displaystyle \\left[\\begin{matrix}1.76037267080745\\\\-0.198757763975155\\end{matrix}\\right]$"
      ],
      "text/plain": [
       "Matrix([\n",
       "[  1.76037267080745],\n",
       "[-0.198757763975155]])"
      ]
     },
     "execution_count": 23,
     "metadata": {},
     "output_type": "execute_result"
    }
   ],
   "source": [
    "# X=[β1,β2] 为未知参数向量\n",
    "X = A.pinv()*B\n",
    "X"
   ]
  },
  {
   "cell_type": "code",
   "execution_count": 24,
   "metadata": {},
   "outputs": [],
   "source": [
    "# 最小二乘曲线： y=1.7604x-0.1988x^2"
   ]
  },
  {
   "cell_type": "code",
   "execution_count": 25,
   "metadata": {},
   "outputs": [
    {
     "data": {
      "image/png": "[encoded data removed]",
      "text/plain": [
       "<Figure size 432x288 with 1 Axes>"
      ]
     },
     "metadata": {
      "needs_background": "light"
     },
     "output_type": "display_data"
    }
   ],
   "source": [
    "# 绘图，(1,1.8),(2,2.7),(3，3.4),(4，3.8),(5，3.9)， y=1.7604x-0.1988x^2\n",
    "import numpy as np\n",
    "import matplotlib.pyplot as plt\n",
    "\n",
    "x = np.linspace(0,6,50)\n",
    "y = 1.7604 * x - 0.1988 * x**2\n",
    "plt.figure(1)\n",
    "plt.plot(x,y)\n",
    "plt.plot(1,1.8, 'bo')\n",
    "plt.plot(2,2.7, 'bo')\n",
    "plt.plot(3,3.4, 'bo')\n",
    "plt.plot(4,3.8, 'bo')\n",
    "plt.plot(5,3.9, 'bo')\n",
    "\n",
    "plt.show()"
   ]
  },
  {
   "cell_type": "code",
   "execution_count": null,
   "metadata": {},
   "outputs": [],
   "source": []
  }
 ],
 "metadata": {
  "kernelspec": {
   "display_name": "Python 3",
   "language": "python",
   "name": "python3"
  },
  "language_info": {
   "codemirror_mode": {
    "name": "ipython",
    "version": 3
   },
   "file_extension": ".py",
   "mimetype": "text/x-python",
   "name": "python",
   "nbconvert_exporter": "python",
   "pygments_lexer": "ipython3",
   "version": "3.8.0"
  }
 },
 "nbformat": 4,
 "nbformat_minor": 4
}

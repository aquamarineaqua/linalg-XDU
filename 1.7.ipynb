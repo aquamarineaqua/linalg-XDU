{
 "cells": [
  {
   "cell_type": "code",
   "execution_count": 1,
   "metadata": {},
   "outputs": [
    {
     "data": {
      "text/latex": [
       "$\\displaystyle \\left[\\begin{matrix}-8 & 4 & -2 & 1\\\\-1 & 1 & -1 & 1\\\\1 & 1 & 1 & 1\\\\8 & 4 & 2 & 1\\end{matrix}\\right]$"
      ],
      "text/plain": [
       "Matrix([\n",
       "[-8, 4, -2, 1],\n",
       "[-1, 1, -1, 1],\n",
       "[ 1, 1,  1, 1],\n",
       "[ 8, 4,  2, 1]])"
      ]
     },
     "execution_count": 1,
     "metadata": {},
     "output_type": "execute_result"
    }
   ],
   "source": [
    "# 求多项式系数，解线性方程\n",
    "# Matlab： A=[-8,4,-2,1;-1,1,-1,1;1,1,1,1;8,4,2,1], b=[2;0;-4;6], X=A\\b\n",
    "# 得到：X=[1,2,-3,-4]T，即 a3=1, a2=2, a1=-3, a0=-4。\n",
    "\n",
    "from sympy import Matrix\n",
    "A1 = Matrix([[-8,4,-2,1],[-1,1,-1,1],[1,1,1,1],[8,4,2,1]])\n",
    "A1"
   ]
  },
  {
   "cell_type": "code",
   "execution_count": 4,
   "metadata": {},
   "outputs": [
    {
     "data": {
      "text/latex": [
       "$\\displaystyle \\left[\\begin{matrix}2\\\\0\\\\-4\\\\6\\end{matrix}\\right]$"
      ],
      "text/plain": [
       "Matrix([\n",
       "[ 2],\n",
       "[ 0],\n",
       "[-4],\n",
       "[ 6]])"
      ]
     },
     "execution_count": 4,
     "metadata": {},
     "output_type": "execute_result"
    }
   ],
   "source": [
    "b1 = Matrix([2,0,-4,6])\n",
    "b1"
   ]
  },
  {
   "cell_type": "code",
   "execution_count": 6,
   "metadata": {},
   "outputs": [],
   "source": [
    "from sympy import *\n",
    "a3, a2, a1, a0 = symbols('a3 a2 a1 a0')"
   ]
  },
  {
   "cell_type": "code",
   "execution_count": 13,
   "metadata": {},
   "outputs": [
    {
     "data": {
      "text/latex": [
       "$\\displaystyle \\left\\{\\left( 1, \\  2, \\  -3, \\  -4\\right)\\right\\}$"
      ],
      "text/plain": [
       "FiniteSet((1, 2, -3, -4))"
      ]
     },
     "execution_count": 13,
     "metadata": {},
     "output_type": "execute_result"
    }
   ],
   "source": [
    "# linsolve解法2（linsolve解法1见1.6）\n",
    "linsolve(Matrix([[A1,b1]]), (a3, a2, a1, a0))"
   ]
  },
  {
   "cell_type": "code",
   "execution_count": 14,
   "metadata": {},
   "outputs": [
    {
     "data": {
      "text/latex": [
       "$\\displaystyle \\left\\{\\left( 1, \\  2, \\  -3, \\  -4\\right)\\right\\}$"
      ],
      "text/plain": [
       "FiniteSet((1, 2, -3, -4))"
      ]
     },
     "execution_count": 14,
     "metadata": {},
     "output_type": "execute_result"
    }
   ],
   "source": [
    "# linsolve解法3\n",
    "Mat1 = Matrix([[A1,b1]])\n",
    "system = A2, b2 = Mat1[:, :-1], Mat1[:, -1]\n",
    "linsolve(system, a3, a2, a1, a0)"
   ]
  },
  {
   "cell_type": "code",
   "execution_count": 15,
   "metadata": {},
   "outputs": [
    {
     "data": {
      "text/plain": [
       "tuple"
      ]
     },
     "execution_count": 15,
     "metadata": {},
     "output_type": "execute_result"
    }
   ],
   "source": [
    "type(system)"
   ]
  },
  {
   "cell_type": "code",
   "execution_count": 16,
   "metadata": {},
   "outputs": [
    {
     "data": {
      "text/plain": [
       "sympy.matrices.dense.MutableDenseMatrix"
      ]
     },
     "execution_count": 16,
     "metadata": {},
     "output_type": "execute_result"
    }
   ],
   "source": [
    "type(A2)"
   ]
  },
  {
   "cell_type": "code",
   "execution_count": null,
   "metadata": {},
   "outputs": [],
   "source": []
  }
 ],
 "metadata": {
  "kernelspec": {
   "display_name": "Python 3",
   "language": "python",
   "name": "python3"
  },
  "language_info": {
   "codemirror_mode": {
    "name": "ipython",
    "version": 3
   },
   "file_extension": ".py",
   "mimetype": "text/x-python",
   "name": "python",
   "nbconvert_exporter": "python",
   "pygments_lexer": "ipython3",
   "version": "3.8.0"
  }
 },
 "nbformat": 4,
 "nbformat_minor": 4
}

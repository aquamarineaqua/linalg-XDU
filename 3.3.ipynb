{
 "cells": [
  {
   "cell_type": "code",
   "execution_count": 2,
   "metadata": {},
   "outputs": [
    {
     "data": {
      "text/latex": [
       "$\\displaystyle \\left[\\begin{matrix}88 & 57 & 72 & 95\\\\15 & 51 & 60 & 77\\\\6 & 39 & 96 & 63\\\\88 & 81 & 75 & 28\\end{matrix}\\right]$"
      ],
      "text/plain": [
       "Matrix([\n",
       "[88, 57, 72, 95],\n",
       "[15, 51, 60, 77],\n",
       "[ 6, 39, 96, 63],\n",
       "[88, 81, 75, 28]])"
      ]
     },
     "execution_count": 2,
     "metadata": {},
     "output_type": "execute_result"
    }
   ],
   "source": [
    "from sympy import Matrix\n",
    "from sympy import *\n",
    "\n",
    "# 随机生成两个四阶方阵，验证等式成立与否\n",
    "A1 = randMatrix(4,4)\n",
    "A1"
   ]
  },
  {
   "cell_type": "code",
   "execution_count": 3,
   "metadata": {},
   "outputs": [
    {
     "data": {
      "text/latex": [
       "$\\displaystyle \\left[\\begin{matrix}91 & 22 & 62 & 24\\\\16 & 0 & 57 & 51\\\\11 & 75 & 70 & 17\\\\16 & 6 & 61 & 73\\end{matrix}\\right]$"
      ],
      "text/plain": [
       "Matrix([\n",
       "[91, 22, 62, 24],\n",
       "[16,  0, 57, 51],\n",
       "[11, 75, 70, 17],\n",
       "[16,  6, 61, 73]])"
      ]
     },
     "execution_count": 3,
     "metadata": {},
     "output_type": "execute_result"
    }
   ],
   "source": [
    "A2 = randMatrix(4,4)\n",
    "A2"
   ]
  },
  {
   "cell_type": "code",
   "execution_count": 4,
   "metadata": {},
   "outputs": [
    {
     "data": {
      "text/latex": [
       "$\\displaystyle 19808198$"
      ],
      "text/plain": [
       "19808198"
      ]
     },
     "execution_count": 4,
     "metadata": {},
     "output_type": "execute_result"
    }
   ],
   "source": [
    "# (a)  det(A+B)=det(A)+det(B)是否成立\n",
    "(A1+A2).det()-A1.det()-A2.det()"
   ]
  },
  {
   "cell_type": "code",
   "execution_count": 5,
   "metadata": {},
   "outputs": [
    {
     "data": {
      "text/latex": [
       "$\\displaystyle 0$"
      ],
      "text/plain": [
       "0"
      ]
     },
     "execution_count": 5,
     "metadata": {},
     "output_type": "execute_result"
    }
   ],
   "source": [
    "# (b)  det(A*B)=det(A)*det(B)是否成立\n",
    "(A1*A2).det()-A1.det()*A2.det()"
   ]
  },
  {
   "cell_type": "code",
   "execution_count": 10,
   "metadata": {},
   "outputs": [
    {
     "data": {
      "text/latex": [
       "$\\displaystyle 0$"
      ],
      "text/plain": [
       "0"
      ]
     },
     "execution_count": 10,
     "metadata": {},
     "output_type": "execute_result"
    }
   ],
   "source": [
    "# (c)  det(inv(A))=inv(det(A))是否成立\n",
    "A1.inv().det()-A1.det()**-1"
   ]
  },
  {
   "cell_type": "code",
   "execution_count": null,
   "metadata": {},
   "outputs": [],
   "source": []
  }
 ],
 "metadata": {
  "kernelspec": {
   "display_name": "Python 3",
   "language": "python",
   "name": "python3"
  },
  "language_info": {
   "codemirror_mode": {
    "name": "ipython",
    "version": 3
   },
   "file_extension": ".py",
   "mimetype": "text/x-python",
   "name": "python",
   "nbconvert_exporter": "python",
   "pygments_lexer": "ipython3",
   "version": "3.8.0"
  }
 },
 "nbformat": 4,
 "nbformat_minor": 4
}

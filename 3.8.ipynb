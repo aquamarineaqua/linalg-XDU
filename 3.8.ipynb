{
 "cells": [
  {
   "cell_type": "code",
   "execution_count": 1,
   "metadata": {},
   "outputs": [
    {
     "data": {
      "text/latex": [
       "$\\displaystyle \\left[\\begin{matrix}40\\\\200\\\\100\\\\60\\end{matrix}\\right]$"
      ],
      "text/plain": [
       "Matrix([\n",
       "[ 40],\n",
       "[200],\n",
       "[100],\n",
       "[ 60]])"
      ]
     },
     "execution_count": 1,
     "metadata": {},
     "output_type": "execute_result"
    }
   ],
   "source": [
    "from sympy import Matrix\n",
    "from sympy import *\n",
    "\n",
    "# 交通流图问题\n",
    "# 方程组：\n",
    "# x1+x3-x4=40, x1+x2=200, x2-x3-x5=100, x4+x5=60\n",
    "\n",
    "A=Matrix([[1,0,1,-1,0],[1,1,0,0,0],[0,1,-1,0,-1],[0,0,0,1,1]])\n",
    "b=Matrix([40,200,100,60])\n",
    "b"
   ]
  },
  {
   "cell_type": "code",
   "execution_count": 2,
   "metadata": {},
   "outputs": [
    {
     "data": {
      "text/latex": [
       "$\\displaystyle \\left[\\begin{matrix}1 & 0 & 1 & 0 & 1 & 100\\\\0 & 1 & -1 & 0 & -1 & 100\\\\0 & 0 & 0 & 1 & 1 & 60\\\\0 & 0 & 0 & 0 & 0 & 0\\end{matrix}\\right]$"
      ],
      "text/plain": [
       "Matrix([\n",
       "[1, 0,  1, 0,  1, 100],\n",
       "[0, 1, -1, 0, -1, 100],\n",
       "[0, 0,  0, 1,  1,  60],\n",
       "[0, 0,  0, 0,  0,   0]])"
      ]
     },
     "execution_count": 2,
     "metadata": {},
     "output_type": "execute_result"
    }
   ],
   "source": [
    "# ========（a）========== 求解\n",
    "U = Matrix([[A,b]]).rref()[0]\n",
    "U"
   ]
  },
  {
   "cell_type": "code",
   "execution_count": null,
   "metadata": {},
   "outputs": [],
   "source": [
    "# 该方程组为欠定方程组，有无穷解"
   ]
  },
  {
   "cell_type": "code",
   "execution_count": null,
   "metadata": {},
   "outputs": [],
   "source": [
    "# ========（b）(c)==========\n",
    "# (b) 如果 x4 的路段被封闭，求此方程组的解。\n",
    "# (c) 若 x4=0，则 x1 的最大值是多少。\n",
    "\n",
    "# 方程组解：\n",
    "# x1=100-x3-x5\n",
    "# x2=100+x3+x5\n",
    "# x4=60-x5\n",
    "# x3=c1\n",
    "# x5=c2\n",
    "\n",
    "# 令x4=0，即x5=60，x1=40-x3，当x3=0，x1最大值为40"
   ]
  }
 ],
 "metadata": {
  "kernelspec": {
   "display_name": "Python 3",
   "language": "python",
   "name": "python3"
  },
  "language_info": {
   "codemirror_mode": {
    "name": "ipython",
    "version": 3
   },
   "file_extension": ".py",
   "mimetype": "text/x-python",
   "name": "python",
   "nbconvert_exporter": "python",
   "pygments_lexer": "ipython3",
   "version": "3.8.0"
  }
 },
 "nbformat": 4,
 "nbformat_minor": 4
}

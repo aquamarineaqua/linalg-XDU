{
 "cells": [
  {
   "cell_type": "code",
   "execution_count": 1,
   "metadata": {},
   "outputs": [
    {
     "data": {
      "text/latex": [
       "$\\displaystyle \\left[\\begin{matrix}4 & -1 & 1 & -1\\\\2 & 3 & 7 & 1\\\\2 & 2 & 2 & -1\\\\3 & -1 & 2 & 0\\end{matrix}\\right]$"
      ],
      "text/plain": [
       "Matrix([\n",
       "[4, -1, 1, -1],\n",
       "[2,  3, 7,  1],\n",
       "[2,  2, 2, -1],\n",
       "[3, -1, 2,  0]])"
      ]
     },
     "execution_count": 1,
     "metadata": {},
     "output_type": "execute_result"
    }
   ],
   "source": [
    "from sympy import Matrix\n",
    "from sympy import *\n",
    "\n",
    "# 根据方程组的系数行列式，判断其解是否存在，是否唯一。再用行阶梯形分解方法或其他方法进行验证。\n",
    "# ====================（a）====================\n",
    "# Matlab：Aa=[4,-1,1,-1;2,3,7,1;2,2,2,-1;3,-1,2,0], ba=[2;4;0;3], Ua=rref([Aa,ba])\n",
    "\n",
    "Aa = Matrix([[4,-1,1,-1],[2,3,7,1],[2,2,2,-1],[3,-1,2,0]])\n",
    "Aa"
   ]
  },
  {
   "cell_type": "code",
   "execution_count": 2,
   "metadata": {},
   "outputs": [
    {
     "data": {
      "text/latex": [
       "$\\displaystyle \\left[\\begin{matrix}2\\\\4\\\\0\\\\3\\end{matrix}\\right]$"
      ],
      "text/plain": [
       "Matrix([\n",
       "[2],\n",
       "[4],\n",
       "[0],\n",
       "[3]])"
      ]
     },
     "execution_count": 2,
     "metadata": {},
     "output_type": "execute_result"
    }
   ],
   "source": [
    "ba=Matrix([2,4,0,3])\n",
    "ba"
   ]
  },
  {
   "cell_type": "code",
   "execution_count": 4,
   "metadata": {},
   "outputs": [
    {
     "data": {
      "text/latex": [
       "$\\displaystyle \\left[\\begin{matrix}1 & 0 & 0 & - \\frac{1}{2} & 0\\\\0 & 1 & 0 & - \\frac{1}{2} & -1\\\\0 & 0 & 1 & \\frac{1}{2} & 1\\\\0 & 0 & 0 & 0 & 0\\end{matrix}\\right]$"
      ],
      "text/plain": [
       "Matrix([\n",
       "[1, 0, 0, -1/2,  0],\n",
       "[0, 1, 0, -1/2, -1],\n",
       "[0, 0, 1,  1/2,  1],\n",
       "[0, 0, 0,    0,  0]])"
      ]
     },
     "execution_count": 4,
     "metadata": {},
     "output_type": "execute_result"
    }
   ],
   "source": [
    "Ua = Matrix([[Aa,ba]]).rref()[0]\n",
    "Ua"
   ]
  },
  {
   "cell_type": "code",
   "execution_count": 6,
   "metadata": {},
   "outputs": [
    {
     "data": {
      "text/latex": [
       "$\\displaystyle 0$"
      ],
      "text/plain": [
       "0"
      ]
     },
     "execution_count": 6,
     "metadata": {},
     "output_type": "execute_result"
    }
   ],
   "source": [
    "Aa.det()\n",
    "\n",
    "# (a)是欠定方程，解存在但不唯一；"
   ]
  },
  {
   "cell_type": "code",
   "execution_count": 7,
   "metadata": {},
   "outputs": [],
   "source": [
    "# Aa行列式为0，方程解不存在"
   ]
  },
  {
   "cell_type": "code",
   "execution_count": 8,
   "metadata": {},
   "outputs": [
    {
     "data": {
      "text/latex": [
       "$\\displaystyle \\left[\\begin{matrix}-7 & 0 & 4 & 7\\\\3 & 1 & 7 & -5\\\\4 & -7 & -4 & 6\\\\4 & -1 & -5 & 8\\end{matrix}\\right]$"
      ],
      "text/plain": [
       "Matrix([\n",
       "[-7,  0,  4,  7],\n",
       "[ 3,  1,  7, -5],\n",
       "[ 4, -7, -4,  6],\n",
       "[ 4, -1, -5,  8]])"
      ]
     },
     "execution_count": 8,
     "metadata": {},
     "output_type": "execute_result"
    }
   ],
   "source": [
    "# ====================（b）====================\n",
    "Ab = Matrix([[-7,0,4,7],[3,1,7,-5],[4,-7,-4,6],[4,-1,-5,8]])\n",
    "Ab"
   ]
  },
  {
   "cell_type": "code",
   "execution_count": 10,
   "metadata": {},
   "outputs": [
    {
     "data": {
      "text/latex": [
       "$\\displaystyle \\left[\\begin{matrix}8\\\\1\\\\1\\\\3\\end{matrix}\\right]$"
      ],
      "text/plain": [
       "Matrix([\n",
       "[8],\n",
       "[1],\n",
       "[1],\n",
       "[3]])"
      ]
     },
     "execution_count": 10,
     "metadata": {},
     "output_type": "execute_result"
    }
   ],
   "source": [
    "bb = Matrix([8,1,1,3])\n",
    "bb"
   ]
  },
  {
   "cell_type": "code",
   "execution_count": 11,
   "metadata": {},
   "outputs": [
    {
     "data": {
      "text/latex": [
       "$\\displaystyle \\left[\\begin{matrix}1 & 0 & 0 & 0 & \\frac{82}{2159}\\\\0 & 1 & 0 & 0 & \\frac{387}{2159}\\\\0 & 0 & 1 & 0 & \\frac{1448}{2159}\\\\0 & 0 & 0 & 1 & \\frac{1722}{2159}\\end{matrix}\\right]$"
      ],
      "text/plain": [
       "Matrix([\n",
       "[1, 0, 0, 0,   82/2159],\n",
       "[0, 1, 0, 0,  387/2159],\n",
       "[0, 0, 1, 0, 1448/2159],\n",
       "[0, 0, 0, 1, 1722/2159]])"
      ]
     },
     "execution_count": 11,
     "metadata": {},
     "output_type": "execute_result"
    }
   ],
   "source": [
    "Ub = Matrix([[Ab,bb]]).rref()[0]\n",
    "Ub\n"
   ]
  },
  {
   "cell_type": "code",
   "execution_count": 12,
   "metadata": {},
   "outputs": [
    {
     "data": {
      "text/latex": [
       "$\\displaystyle -4318$"
      ],
      "text/plain": [
       "-4318"
      ]
     },
     "execution_count": 12,
     "metadata": {},
     "output_type": "execute_result"
    }
   ],
   "source": [
    "# (b)存在唯一解；\n",
    "Ab.det()"
   ]
  },
  {
   "cell_type": "code",
   "execution_count": null,
   "metadata": {},
   "outputs": [],
   "source": [
    "# Ab行列式不为0，存在方程解"
   ]
  }
 ],
 "metadata": {
  "kernelspec": {
   "display_name": "Python 3",
   "language": "python",
   "name": "python3"
  },
  "language_info": {
   "codemirror_mode": {
    "name": "ipython",
    "version": 3
   },
   "file_extension": ".py",
   "mimetype": "text/x-python",
   "name": "python",
   "nbconvert_exporter": "python",
   "pygments_lexer": "ipython3",
   "version": "3.8.0"
  }
 },
 "nbformat": 4,
 "nbformat_minor": 4
}

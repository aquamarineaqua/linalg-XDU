{
 "cells": [
  {
   "cell_type": "code",
   "execution_count": 1,
   "metadata": {},
   "outputs": [
    {
     "data": {
      "text/latex": [
       "$\\displaystyle \\left[\\begin{matrix}20 & 10 & 50 & 10 & 20\\\\10 & 8 & 0 & 6 & 10\\end{matrix}\\right]$"
      ],
      "text/plain": [
       "Matrix([\n",
       "[20, 10, 50, 10, 20],\n",
       "[10,  8,  0,  6, 10]])"
      ]
     },
     "execution_count": 1,
     "metadata": {},
     "output_type": "execute_result"
    }
   ],
   "source": [
    "from sympy import Matrix\n",
    "\n",
    "S1 = Matrix([[200,200,150,150,180],[25,20,30,20,18]])\n",
    "S2 = Matrix([[220,210,200,160,200],[35,28,30,26,28]])\n",
    "S2-S1\n",
    "# 求2006 年比 2005 年的增长量"
   ]
  },
  {
   "cell_type": "code",
   "execution_count": 2,
   "metadata": {},
   "outputs": [
    {
     "data": {
      "text/latex": [
       "$\\displaystyle \\left[\\begin{matrix}222.0 & 211.0 & 205.0 & 161.0 & 202.0\\\\36.0 & 28.8 & 30 & 26.6 & 29.0\\end{matrix}\\right]$"
      ],
      "text/plain": [
       "Matrix([\n",
       "[222.0, 211.0, 205.0, 161.0, 202.0],\n",
       "[ 36.0,  28.8,    30,  26.6,  29.0]])"
      ]
     },
     "execution_count": 2,
     "metadata": {},
     "output_type": "execute_result"
    }
   ],
   "source": [
    "S3 = S2 + 0.1*(S2-S1)\n",
    "S3\n",
    "# 求2007年入学新生的人数分布情况"
   ]
  },
  {
   "cell_type": "code",
   "execution_count": null,
   "metadata": {},
   "outputs": [],
   "source": []
  }
 ],
 "metadata": {
  "kernelspec": {
   "display_name": "Python 3",
   "language": "python",
   "name": "python3"
  },
  "language_info": {
   "codemirror_mode": {
    "name": "ipython",
    "version": 3
   },
   "file_extension": ".py",
   "mimetype": "text/x-python",
   "name": "python",
   "nbconvert_exporter": "python",
   "pygments_lexer": "ipython3",
   "version": "3.8.0"
  }
 },
 "nbformat": 4,
 "nbformat_minor": 4
}

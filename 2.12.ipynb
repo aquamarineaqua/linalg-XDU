{
 "cells": [
  {
   "cell_type": "code",
   "execution_count": 2,
   "metadata": {},
   "outputs": [
    {
     "data": {
      "text/latex": [
       "$\\displaystyle \\left[\\begin{matrix}6 & 4 & 0 & 4 & 7\\\\7 & 6 & 0 & 4 & 8\\\\4 & 4 & 0 & 3 & 6\\\\4 & 3 & 0 & 3 & 4\\\\4 & 4 & 0 & 3 & 6\\end{matrix}\\right]$"
      ],
      "text/plain": [
       "Matrix([\n",
       "[6, 4, 0, 4, 7],\n",
       "[7, 6, 0, 4, 8],\n",
       "[4, 4, 0, 3, 6],\n",
       "[4, 3, 0, 3, 4],\n",
       "[4, 4, 0, 3, 6]])"
      ]
     },
     "execution_count": 2,
     "metadata": {},
     "output_type": "execute_result"
    }
   ],
   "source": [
    "# 空运航线中转问题\n",
    "\n",
    "from sympy import Matrix\n",
    "from sympy import *\n",
    "\n",
    "A=Matrix([[0,0,0,1,1],[1,0,0,0,1],[0,1,0,0,0],[1,0,0,0,0],[0,1,0,0,0]])\n",
    "\n",
    "K5=A+A**2+A**3+A**4+A**5\n",
    "K5"
   ]
  },
  {
   "cell_type": "code",
   "execution_count": 6,
   "metadata": {},
   "outputs": [
    {
     "data": {
      "text/latex": [
       "$\\displaystyle 8$"
      ],
      "text/plain": [
       "8"
      ]
     },
     "execution_count": 6,
     "metadata": {},
     "output_type": "execute_result"
    }
   ],
   "source": [
    "K5[1,4]"
   ]
  },
  {
   "cell_type": "code",
   "execution_count": null,
   "metadata": {},
   "outputs": [],
   "source": []
  }
 ],
 "metadata": {
  "kernelspec": {
   "display_name": "Python 3",
   "language": "python",
   "name": "python3"
  },
  "language_info": {
   "codemirror_mode": {
    "name": "ipython",
    "version": 3
   },
   "file_extension": ".py",
   "mimetype": "text/x-python",
   "name": "python",
   "nbconvert_exporter": "python",
   "pygments_lexer": "ipython3",
   "version": "3.8.0"
  }
 },
 "nbformat": 4,
 "nbformat_minor": 4
}

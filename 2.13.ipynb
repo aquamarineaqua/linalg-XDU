{
 "cells": [
  {
   "cell_type": "code",
   "execution_count": 2,
   "metadata": {},
   "outputs": [
    {
     "data": {
      "text/latex": [
       "$\\displaystyle \\left[\\begin{matrix}1 & -1 & 1\\\\-38 & 41 & -34\\\\27 & -29 & 24\\end{matrix}\\right]$"
      ],
      "text/plain": [
       "Matrix([\n",
       "[  1,  -1,   1],\n",
       "[-38,  41, -34],\n",
       "[ 27, -29,  24]])"
      ]
     },
     "execution_count": 2,
     "metadata": {},
     "output_type": "execute_result"
    }
   ],
   "source": [
    "from sympy import Matrix\n",
    "from sympy import *\n",
    "\n",
    "# (a) Va=inv([2,5,7;6,3,4;5,-2,-3]),\n",
    "# (b) Vb=inv([3,-4,5;2,-3,1;3,-5,-1]),\n",
    "# (c) Vc=inv([1,1,1,1;,0,1,1,1;0,0,1,1;0,0,0,1]),\n",
    "# (d) Vd=inv([5,2,0,0;2,1,0,0;0,0,1,-2;0,0,1,1])\n",
    "\n",
    "Va = Matrix([[2,5,7],[6,3,4],[5,-2,-3]]).inv()\n",
    "Va"
   ]
  },
  {
   "cell_type": "code",
   "execution_count": 3,
   "metadata": {},
   "outputs": [
    {
     "data": {
      "text/latex": [
       "$\\displaystyle \\left[\\begin{matrix}-8 & 29 & -11\\\\-5 & 18 & -7\\\\1 & -3 & 1\\end{matrix}\\right]$"
      ],
      "text/plain": [
       "Matrix([\n",
       "[-8, 29, -11],\n",
       "[-5, 18,  -7],\n",
       "[ 1, -3,   1]])"
      ]
     },
     "execution_count": 3,
     "metadata": {},
     "output_type": "execute_result"
    }
   ],
   "source": [
    "Vb = Matrix([[3,-4,5],[2,-3,1],[3,-5,-1]]).inv()\n",
    "Vb"
   ]
  },
  {
   "cell_type": "code",
   "execution_count": 4,
   "metadata": {},
   "outputs": [
    {
     "data": {
      "text/latex": [
       "$\\displaystyle \\left[\\begin{matrix}1 & -1 & 0 & 0\\\\0 & 1 & -1 & 0\\\\0 & 0 & 1 & -1\\\\0 & 0 & 0 & 1\\end{matrix}\\right]$"
      ],
      "text/plain": [
       "Matrix([\n",
       "[1, -1,  0,  0],\n",
       "[0,  1, -1,  0],\n",
       "[0,  0,  1, -1],\n",
       "[0,  0,  0,  1]])"
      ]
     },
     "execution_count": 4,
     "metadata": {},
     "output_type": "execute_result"
    }
   ],
   "source": [
    "Vc = Matrix([[1,1,1,1],[0,1,1,1],[0,0,1,1],[0,0,0,1]]).inv()\n",
    "Vc"
   ]
  },
  {
   "cell_type": "code",
   "execution_count": 5,
   "metadata": {},
   "outputs": [
    {
     "data": {
      "text/latex": [
       "$\\displaystyle \\left[\\begin{matrix}1 & -2 & 0 & 0\\\\-2 & 5 & 0 & 0\\\\0 & 0 & \\frac{1}{3} & \\frac{2}{3}\\\\0 & 0 & - \\frac{1}{3} & \\frac{1}{3}\\end{matrix}\\right]$"
      ],
      "text/plain": [
       "Matrix([\n",
       "[ 1, -2,    0,   0],\n",
       "[-2,  5,    0,   0],\n",
       "[ 0,  0,  1/3, 2/3],\n",
       "[ 0,  0, -1/3, 1/3]])"
      ]
     },
     "execution_count": 5,
     "metadata": {},
     "output_type": "execute_result"
    }
   ],
   "source": [
    "Vd = Matrix([[5,2,0,0],[2,1,0,0],[0,0,1,-2],[0,0,1,1]]).inv()\n",
    "Vd"
   ]
  },
  {
   "cell_type": "code",
   "execution_count": null,
   "metadata": {},
   "outputs": [],
   "source": []
  }
 ],
 "metadata": {
  "kernelspec": {
   "display_name": "Python 3",
   "language": "python",
   "name": "python3"
  },
  "language_info": {
   "codemirror_mode": {
    "name": "ipython",
    "version": 3
   },
   "file_extension": ".py",
   "mimetype": "text/x-python",
   "name": "python",
   "nbconvert_exporter": "python",
   "pygments_lexer": "ipython3",
   "version": "3.8.0"
  }
 },
 "nbformat": 4,
 "nbformat_minor": 4
}

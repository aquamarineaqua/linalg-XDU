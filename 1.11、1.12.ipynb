{
 "cells": [
  {
   "cell_type": "code",
   "execution_count": 1,
   "metadata": {},
   "outputs": [
    {
     "data": {
      "text/latex": [
       "$\\displaystyle \\left[\\begin{matrix}3 & 4 & 5\\\\7 & 4 & 3\\\\8 & 12 & 10\\end{matrix}\\right]$"
      ],
      "text/plain": [
       "Matrix([\n",
       "[3,  4,  5],\n",
       "[7,  4,  3],\n",
       "[8, 12, 10]])"
      ]
     },
     "execution_count": 1,
     "metadata": {},
     "output_type": "execute_result"
    }
   ],
   "source": [
    "# 1.11 层型布局问题\n",
    "# Matlab： A=[3,4,5;7,4,3;8,12,10], b=[51;75;136], X=A\\b\n",
    "# 解得： X=[7;5;2], 即 7 层甲型布局，5 层乙型布局，2 层丙型布局\n",
    "\n",
    "from sympy import *\n",
    "\n",
    "A=Matrix([[3,4,5],[7,4,3],[8,12,10]])\n",
    "A"
   ]
  },
  {
   "cell_type": "code",
   "execution_count": 2,
   "metadata": {},
   "outputs": [
    {
     "data": {
      "text/latex": [
       "$\\displaystyle \\left[\\begin{matrix}51\\\\75\\\\136\\end{matrix}\\right]$"
      ],
      "text/plain": [
       "Matrix([\n",
       "[ 51],\n",
       "[ 75],\n",
       "[136]])"
      ]
     },
     "execution_count": 2,
     "metadata": {},
     "output_type": "execute_result"
    }
   ],
   "source": [
    "b=Matrix([51,75,136])\n",
    "b"
   ]
  },
  {
   "cell_type": "code",
   "execution_count": 3,
   "metadata": {},
   "outputs": [
    {
     "data": {
      "text/latex": [
       "$\\displaystyle \\left[\\begin{matrix}1 & 0 & 0 & 7\\\\0 & 1 & 0 & 5\\\\0 & 0 & 1 & 2\\end{matrix}\\right]$"
      ],
      "text/plain": [
       "Matrix([\n",
       "[1, 0, 0, 7],\n",
       "[0, 1, 0, 5],\n",
       "[0, 0, 1, 2]])"
      ]
     },
     "execution_count": 3,
     "metadata": {},
     "output_type": "execute_result"
    }
   ],
   "source": [
    "Matrix([[A,b]]).rref()[0]"
   ]
  },
  {
   "cell_type": "code",
   "execution_count": 4,
   "metadata": {},
   "outputs": [
    {
     "data": {
      "text/latex": [
       "$\\displaystyle \\left[\\begin{matrix}-2 & 0 & 0 & 1 & 1 & 1\\\\0 & -2 & 0 & 0 & 0 & 1\\\\0 & 0 & -2 & 2 & 1 & 3\\end{matrix}\\right]$"
      ],
      "text/plain": [
       "Matrix([\n",
       "[-2,  0,  0, 1, 1, 1],\n",
       "[ 0, -2,  0, 0, 0, 1],\n",
       "[ 0,  0, -2, 2, 1, 3]])"
      ]
     },
     "execution_count": 4,
     "metadata": {},
     "output_type": "execute_result"
    }
   ],
   "source": [
    "# 1.12 化学方程式问题\n",
    "# 方程组：\n",
    "# N2: 2x1=x4+x5+x6     x1=0.5(x4+x5+x6)\n",
    "# H2: 2x2=x6     x2=0.5x6\n",
    "# O2: 2x3=2x4+x5+3x6     x3=x4+0.5x5+0.5x6\n",
    "\n",
    "A2 = Matrix([[-2,0,0,1,1,1],[0,-2,0,0,0,1],[0,0,-2,2,1,3]])\n",
    "A2"
   ]
  },
  {
   "cell_type": "code",
   "execution_count": 5,
   "metadata": {},
   "outputs": [
    {
     "data": {
      "text/latex": [
       "$\\displaystyle \\left[\\begin{matrix}1 & 0 & 0 & - \\frac{1}{2} & - \\frac{1}{2} & - \\frac{1}{2}\\\\0 & 1 & 0 & 0 & 0 & - \\frac{1}{2}\\\\0 & 0 & 1 & -1 & - \\frac{1}{2} & - \\frac{3}{2}\\end{matrix}\\right]$"
      ],
      "text/plain": [
       "Matrix([\n",
       "[1, 0, 0, -1/2, -1/2, -1/2],\n",
       "[0, 1, 0,    0,    0, -1/2],\n",
       "[0, 0, 1,   -1, -1/2, -3/2]])"
      ]
     },
     "execution_count": 5,
     "metadata": {},
     "output_type": "execute_result"
    }
   ],
   "source": [
    "A2.rref()[0]"
   ]
  },
  {
   "cell_type": "code",
   "execution_count": null,
   "metadata": {},
   "outputs": [],
   "source": [
    "# 因此，三种原料的消耗量取决于 x4,x5,x6 三个自由变量。光知道硝酸产量 x6 还不够，还要知道 NO 和 NO2 的产量 x4 和 x5。"
   ]
  }
 ],
 "metadata": {
  "kernelspec": {
   "display_name": "Python 3",
   "language": "python",
   "name": "python3"
  },
  "language_info": {
   "codemirror_mode": {
    "name": "ipython",
    "version": 3
   },
   "file_extension": ".py",
   "mimetype": "text/x-python",
   "name": "python",
   "nbconvert_exporter": "python",
   "pygments_lexer": "ipython3",
   "version": "3.8.0"
  }
 },
 "nbformat": 4,
 "nbformat_minor": 4
}

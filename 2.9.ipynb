{
 "cells": [
  {
   "cell_type": "code",
   "execution_count": 1,
   "metadata": {},
   "outputs": [
    {
     "data": {
      "text/latex": [
       "$\\displaystyle \\left[\\begin{matrix}1 & 2 & 3 & 1\\\\2 & 3 & 4 & 1\\\\3 & 4 & 5 & 1\\\\4 & 5 & 6 & 1\\end{matrix}\\right]$"
      ],
      "text/plain": [
       "Matrix([\n",
       "[1, 2, 3, 1],\n",
       "[2, 3, 4, 1],\n",
       "[3, 4, 5, 1],\n",
       "[4, 5, 6, 1]])"
      ]
     },
     "execution_count": 1,
     "metadata": {},
     "output_type": "execute_result"
    }
   ],
   "source": [
    "from sympy import Matrix\n",
    "from sympy import *\n",
    "\n",
    "A = Matrix([[1,2,3,1],[2,3,4,1],[3,4,5,1],[4,5,6,1]])\n",
    "A"
   ]
  },
  {
   "cell_type": "code",
   "execution_count": 4,
   "metadata": {},
   "outputs": [
    {
     "data": {
      "text/latex": [
       "$\\displaystyle \\left[\\begin{matrix}31641 & 45037 & 58433 & 13403\\\\43379 & 61749 & 80119 & 18377\\\\55117 & 78461 & 101805 & 23351\\\\66855 & 95173 & 123491 & 28325\\end{matrix}\\right]$"
      ],
      "text/plain": [
       "Matrix([\n",
       "[31641, 45037,  58433, 13403],\n",
       "[43379, 61749,  80119, 18377],\n",
       "[55117, 78461, 101805, 23351],\n",
       "[66855, 95173, 123491, 28325]])"
      ]
     },
     "execution_count": 4,
     "metadata": {},
     "output_type": "execute_result"
    }
   ],
   "source": [
    "# F=A^5 + 4*A^4 - 3*A^3 + 2*A-7\n",
    "\n",
    "F = A**5 + 4*A**4 - 3*A**3 + 2*A + Matrix(A.shape[0], A.shape[1], lambda i,j:7)\n",
    "# 连续多个相同矩阵相乘可表示为‘**’后接次方。\n",
    "# 构建矩阵：可用lambda表达式（lambda i,j:）填充矩阵内的数，再在前面填入矩阵形状，以构建矩阵\n",
    "F"
   ]
  },
  {
   "cell_type": "code",
   "execution_count": null,
   "metadata": {},
   "outputs": [],
   "source": []
  }
 ],
 "metadata": {
  "kernelspec": {
   "display_name": "Python 3",
   "language": "python",
   "name": "python3"
  },
  "language_info": {
   "codemirror_mode": {
    "name": "ipython",
    "version": 3
   },
   "file_extension": ".py",
   "mimetype": "text/x-python",
   "name": "python",
   "nbconvert_exporter": "python",
   "pygments_lexer": "ipython3",
   "version": "3.8.0"
  }
 },
 "nbformat": 4,
 "nbformat_minor": 4
}

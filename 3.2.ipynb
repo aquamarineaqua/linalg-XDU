{
 "cells": [
  {
   "cell_type": "code",
   "execution_count": 4,
   "metadata": {},
   "outputs": [
    {
     "data": {
      "text/latex": [
       "$\\displaystyle 11$"
      ],
      "text/plain": [
       "11"
      ]
     },
     "execution_count": 4,
     "metadata": {},
     "output_type": "execute_result"
    }
   ],
   "source": [
    "from sympy import Matrix\n",
    "from sympy import *\n",
    "\n",
    "# 用 det 函数计算行列式\n",
    "# Matlab:\n",
    "# (a) Da=det([4,9,1;1,4,0;2,5,2]), 得 Da=11\n",
    "# (b) Db=det([1,9,4;3,1,7;2,0,9], 得 Db=-116\n",
    "# (c) syms a b, Ac=[a,b,a+b;b,a+b,a;a+b,a,b],Dc=det(Ac), \n",
    "# 得：Dc =- 2*a^3 - 2*b^3 ，即 Dc=-2a^3-2b^3\n",
    "\n",
    "# ============================(a)============================\n",
    "Da = Matrix([[4,9,1],[1,4,0],[2,5,2]]).det()\n",
    "Da"
   ]
  },
  {
   "cell_type": "code",
   "execution_count": 5,
   "metadata": {},
   "outputs": [
    {
     "data": {
      "text/latex": [
       "$\\displaystyle -116$"
      ],
      "text/plain": [
       "-116"
      ]
     },
     "execution_count": 5,
     "metadata": {},
     "output_type": "execute_result"
    }
   ],
   "source": [
    "Db = Matrix([[1,9,4],[3,1,7],[2,0,9]]).det()\n",
    "Db"
   ]
  },
  {
   "cell_type": "code",
   "execution_count": 7,
   "metadata": {},
   "outputs": [
    {
     "data": {
      "text/latex": [
       "$\\displaystyle - 2 a^{3} - 2 b^{3}$"
      ],
      "text/plain": [
       "-2*a**3 - 2*b**3"
      ]
     },
     "execution_count": 7,
     "metadata": {},
     "output_type": "execute_result"
    }
   ],
   "source": [
    "a,b = symbols('a b')\n",
    "Ac = Matrix([[a,b,a+b],[b,a+b,a],[a+b,a,b]])\n",
    "Dc = Ac.det()\n",
    "Dc"
   ]
  },
  {
   "cell_type": "code",
   "execution_count": 11,
   "metadata": {},
   "outputs": [
    {
     "data": {
      "text/latex": [
       "$\\displaystyle b$"
      ],
      "text/plain": [
       "b"
      ]
     },
     "execution_count": 11,
     "metadata": {},
     "output_type": "execute_result"
    }
   ],
   "source": [
    "c,d = symbols('c d')\n",
    "Ad1 = Matrix([[1,a,0,0],[0,b,0,0],[0,c,1,0],[0,d,0,1]])\n",
    "Ad2 = Matrix([[1,0,a,0],[0,1,b,0],[0,0,c,0],[0,0,d,1]])\n",
    "Dd1 = Ad1.det()\n",
    "Dd1"
   ]
  },
  {
   "cell_type": "code",
   "execution_count": 12,
   "metadata": {},
   "outputs": [
    {
     "data": {
      "text/latex": [
       "$\\displaystyle c$"
      ],
      "text/plain": [
       "c"
      ]
     },
     "execution_count": 12,
     "metadata": {},
     "output_type": "execute_result"
    }
   ],
   "source": [
    "Dd2 = Ad2.det()\n",
    "Dd2"
   ]
  },
  {
   "cell_type": "code",
   "execution_count": null,
   "metadata": {},
   "outputs": [],
   "source": []
  }
 ],
 "metadata": {
  "kernelspec": {
   "display_name": "Python 3",
   "language": "python",
   "name": "python3"
  },
  "language_info": {
   "codemirror_mode": {
    "name": "ipython",
    "version": 3
   },
   "file_extension": ".py",
   "mimetype": "text/x-python",
   "name": "python",
   "nbconvert_exporter": "python",
   "pygments_lexer": "ipython3",
   "version": "3.8.0"
  }
 },
 "nbformat": 4,
 "nbformat_minor": 4
}

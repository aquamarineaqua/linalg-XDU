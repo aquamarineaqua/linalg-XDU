{
 "cells": [
  {
   "cell_type": "code",
   "execution_count": 1,
   "metadata": {},
   "outputs": [
    {
     "data": {
      "text/latex": [
       "$\\displaystyle \\left[\\begin{matrix}1 & -2\\\\1 & -1\\\\1 & 0\\\\1 & 1\\\\1 & 2\\end{matrix}\\right]$"
      ],
      "text/plain": [
       "Matrix([\n",
       "[1, -2],\n",
       "[1, -1],\n",
       "[1,  0],\n",
       "[1,  1],\n",
       "[1,  2]])"
      ]
     },
     "execution_count": 1,
     "metadata": {},
     "output_type": "execute_result"
    }
   ],
   "source": [
    "from sympy import *\n",
    "\n",
    "# ===========4.18==========\n",
    "# 求最小二乘直线 y=β0 + β1 * x,来拟合数据，并求均方误差 \n",
    "#  a.(-2,0),(-1,0),(0,2),(1,4)和(2,4) \n",
    "#  b. (2,3),(3,2),(5,1)和(6,0)\n",
    "# 解：本体属于 最小二乘参数估值 题\n",
    "\n",
    "# ========== a ==========\n",
    "# 方程组：β0 + β1 * (-2) = 0，β0 + β1 * (-1) = 0，β0 + β1 * 0 = 2，β0 + β1 * 1 = 4，β0 + β1 * 2 = 4\n",
    "\n",
    "Aa = Matrix([[1,-2],[1,-1],[1,0],[1,1],[1,2]])\n",
    "Aa"
   ]
  },
  {
   "cell_type": "code",
   "execution_count": 2,
   "metadata": {},
   "outputs": [
    {
     "data": {
      "text/latex": [
       "$\\displaystyle \\left[\\begin{matrix}0\\\\0\\\\2\\\\4\\\\4\\end{matrix}\\right]$"
      ],
      "text/plain": [
       "Matrix([\n",
       "[0],\n",
       "[0],\n",
       "[2],\n",
       "[4],\n",
       "[4]])"
      ]
     },
     "execution_count": 2,
     "metadata": {},
     "output_type": "execute_result"
    }
   ],
   "source": [
    "Ba = Matrix([0,0,2,4,4])\n",
    "Ba"
   ]
  },
  {
   "cell_type": "code",
   "execution_count": 3,
   "metadata": {},
   "outputs": [
    {
     "data": {
      "text/latex": [
       "$\\displaystyle \\left[\\begin{matrix}2.0\\\\1.2\\end{matrix}\\right]$"
      ],
      "text/plain": [
       "Matrix([\n",
       "[2.0],\n",
       "[1.2]])"
      ]
     },
     "execution_count": 3,
     "metadata": {},
     "output_type": "execute_result"
    }
   ],
   "source": [
    "# Xa = Matrix([β0,β1])\n",
    "Xa = Aa.pinv()*Ba\n",
    "Xa = Xa.evalf()\n",
    "Xa"
   ]
  },
  {
   "cell_type": "code",
   "execution_count": 4,
   "metadata": {},
   "outputs": [
    {
     "data": {
      "text/latex": [
       "$\\displaystyle \\left[\\begin{matrix}-0.4\\\\0.8\\\\0\\\\-0.8\\\\0.4\\end{matrix}\\right]$"
      ],
      "text/plain": [
       "Matrix([\n",
       "[-0.4],\n",
       "[ 0.8],\n",
       "[   0],\n",
       "[-0.8],\n",
       "[ 0.4]])"
      ]
     },
     "execution_count": 4,
     "metadata": {},
     "output_type": "execute_result"
    }
   ],
   "source": [
    "# β0=2.0,β1=1.2\n",
    "e = Aa*Xa - Ba\n",
    "e"
   ]
  },
  {
   "cell_type": "code",
   "execution_count": 5,
   "metadata": {},
   "outputs": [
    {
     "data": {
      "text/latex": [
       "$\\displaystyle 1.26491106406735$"
      ],
      "text/plain": [
       "1.26491106406735"
      ]
     },
     "execution_count": 5,
     "metadata": {},
     "output_type": "execute_result"
    }
   ],
   "source": [
    "norme = e.norm()\n",
    "norme\n",
    "# 求均方误差，即求误差向量的范数（模）"
   ]
  },
  {
   "cell_type": "code",
   "execution_count": 6,
   "metadata": {},
   "outputs": [],
   "source": [
    "# 均方误差为1.2649\n",
    "# 绘图观察点拟合情况"
   ]
  },
  {
   "cell_type": "code",
   "execution_count": 7,
   "metadata": {},
   "outputs": [
    {
     "data": {
      "image/png": "[encoded data removed]",
      "text/plain": [
       "<Figure size 432x288 with 1 Axes>"
      ]
     },
     "metadata": {
      "needs_background": "light"
     },
     "output_type": "display_data"
    }
   ],
   "source": [
    "# 得到拟合方程为： y= 2 + 1.2 * x\n",
    "import numpy as np\n",
    "import matplotlib.pyplot as plt\n",
    "\n",
    "x = np.linspace(-3,3,50)\n",
    "y = 2 + 1.2*x\n",
    "\n",
    "plt.figure(1)\n",
    "plt.plot(x,y)\n",
    "plt.plot(-2,0, 'bo')\n",
    "plt.plot(-1,0, 'bo')\n",
    "plt.plot(0,2, 'bo')\n",
    "plt.plot(1,4, 'bo')\n",
    "plt.plot(2,4, 'bo')\n",
    "\n",
    "plt.show()"
   ]
  },
  {
   "cell_type": "code",
   "execution_count": 8,
   "metadata": {},
   "outputs": [
    {
     "data": {
      "text/latex": [
       "$\\displaystyle \\left[\\begin{matrix}1 & 2\\\\1 & 3\\\\1 & 5\\\\1 & 6\\end{matrix}\\right]$"
      ],
      "text/plain": [
       "Matrix([\n",
       "[1, 2],\n",
       "[1, 3],\n",
       "[1, 5],\n",
       "[1, 6]])"
      ]
     },
     "execution_count": 8,
     "metadata": {},
     "output_type": "execute_result"
    }
   ],
   "source": [
    "# ========== b ==========\n",
    "#  b： (2,3),(3,2),(5,1)和(6,0)\n",
    "\n",
    "Ab = Matrix([[1,2],[1,3],[1,5],[1,6]])\n",
    "Ab"
   ]
  },
  {
   "cell_type": "code",
   "execution_count": 9,
   "metadata": {},
   "outputs": [
    {
     "data": {
      "text/latex": [
       "$\\displaystyle \\left[\\begin{matrix}3\\\\2\\\\1\\\\0\\end{matrix}\\right]$"
      ],
      "text/plain": [
       "Matrix([\n",
       "[3],\n",
       "[2],\n",
       "[1],\n",
       "[0]])"
      ]
     },
     "execution_count": 9,
     "metadata": {},
     "output_type": "execute_result"
    }
   ],
   "source": [
    "Bb = Matrix([3,2,1,0])\n",
    "Bb"
   ]
  },
  {
   "cell_type": "code",
   "execution_count": 10,
   "metadata": {},
   "outputs": [
    {
     "data": {
      "text/latex": [
       "$\\displaystyle \\left[\\begin{matrix}4.3\\\\-0.7\\end{matrix}\\right]$"
      ],
      "text/plain": [
       "Matrix([\n",
       "[ 4.3],\n",
       "[-0.7]])"
      ]
     },
     "execution_count": 10,
     "metadata": {},
     "output_type": "execute_result"
    }
   ],
   "source": [
    "Xb = Ab.pinv()*Bb\n",
    "Xb = Xb.evalf()\n",
    "Xb"
   ]
  },
  {
   "cell_type": "code",
   "execution_count": 12,
   "metadata": {},
   "outputs": [
    {
     "data": {
      "image/png": "[encoded data removed]",
      "text/plain": [
       "<Figure size 432x288 with 1 Axes>"
      ]
     },
     "metadata": {
      "needs_background": "light"
     },
     "output_type": "display_data"
    }
   ],
   "source": [
    "# 得到拟合方程为： y= 4.3 - 0.7 * x\n",
    "import numpy as np\n",
    "import matplotlib.pyplot as plt\n",
    "\n",
    "xb = np.linspace(1,7,50)\n",
    "yb = 4.3 - 0.7*xb\n",
    "\n",
    "plt.figure(2)\n",
    "plt.plot(xb,yb)\n",
    "plt.plot(2,3, 'bo')\n",
    "plt.plot(3,2, 'bo')\n",
    "plt.plot(5,1, 'bo')\n",
    "plt.plot(6,0, 'bo')\n",
    "\n",
    "plt.show()"
   ]
  },
  {
   "cell_type": "code",
   "execution_count": null,
   "metadata": {},
   "outputs": [],
   "source": []
  },
  {
   "cell_type": "code",
   "execution_count": null,
   "metadata": {},
   "outputs": [],
   "source": []
  }
 ],
 "metadata": {
  "kernelspec": {
   "display_name": "Python 3",
   "language": "python",
   "name": "python3"
  },
  "language_info": {
   "codemirror_mode": {
    "name": "ipython",
    "version": 3
   },
   "file_extension": ".py",
   "mimetype": "text/x-python",
   "name": "python",
   "nbconvert_exporter": "python",
   "pygments_lexer": "ipython3",
   "version": "3.8.0"
  }
 },
 "nbformat": 4,
 "nbformat_minor": 4
}

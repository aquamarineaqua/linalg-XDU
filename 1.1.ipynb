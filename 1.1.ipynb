{
 "cells": [
  {
   "cell_type": "code",
   "execution_count": 1,
   "metadata": {},
   "outputs": [],
   "source": [
    "import numpy as np"
   ]
  },
  {
   "cell_type": "code",
   "execution_count": 2,
   "metadata": {
    "scrolled": true
   },
   "outputs": [
    {
     "data": {
      "text/plain": [
       "array([[ 9,  2,  2,  2, -5],\n",
       "       [-2,  4, -2, -9,  2],\n",
       "       [ 8, -9,  4,  0,  4],\n",
       "       [ 9, -3, -1,  6,  3]])"
      ]
     },
     "execution_count": 2,
     "metadata": {},
     "output_type": "execute_result"
    }
   ],
   "source": [
    "# 题：(a) 生成一个 4 × 5 的一位整数的随机增广矩阵，用 ref1 及 rref 函数求出它的行阶梯形及最简行阶梯形矩阵，并求其解；\n",
    "\n",
    "arr1 = np.random.randint(-9,10,size=(4,5))\n",
    "arr1\n",
    "# 使用numpy产生一个4×5，随机生成从-9到9大小整数的矩阵（二维数组）"
   ]
  },
  {
   "cell_type": "code",
   "execution_count": 3,
   "metadata": {},
   "outputs": [],
   "source": [
    "from sympy import Matrix\n",
    "# 使用sympy包建立矩阵"
   ]
  },
  {
   "cell_type": "code",
   "execution_count": 4,
   "metadata": {},
   "outputs": [
    {
     "data": {
      "text/latex": [
       "$\\displaystyle \\left[\\begin{matrix}9 & 2 & 2 & 2 & -5\\\\-2 & 4 & -2 & -9 & 2\\\\8 & -9 & 4 & 0 & 4\\\\9 & -3 & -1 & 6 & 3\\end{matrix}\\right]$"
      ],
      "text/plain": [
       "Matrix([\n",
       "[ 9,  2,  2,  2, -5],\n",
       "[-2,  4, -2, -9,  2],\n",
       "[ 8, -9,  4,  0,  4],\n",
       "[ 9, -3, -1,  6,  3]])"
      ]
     },
     "execution_count": 4,
     "metadata": {},
     "output_type": "execute_result"
    }
   ],
   "source": [
    "mat1 = Matrix(arr1)\n",
    "mat1\n",
    "\n",
    "#或者直接使用sympy中 randMatrix方法 randMatrix(4, 5, -9, 9) ，来建立一个矩阵"
   ]
  },
  {
   "cell_type": "code",
   "execution_count": 5,
   "metadata": {},
   "outputs": [
    {
     "data": {
      "text/plain": [
       "(Matrix([\n",
       " [1, 0, 0, 0,   305/3931],\n",
       " [0, 1, 0, 0, -4020/3931],\n",
       " [0, 0, 1, 0, -5724/3931],\n",
       " [0, 0, 0, 1, -1456/3931]]),\n",
       " (0, 1, 2, 3))"
      ]
     },
     "execution_count": 5,
     "metadata": {},
     "output_type": "execute_result"
    }
   ],
   "source": [
    "mat2 = mat1.rref()\n",
    "mat2\n",
    "# 使用sympy包Matrix中的rref方法求行最简形（最简行阶梯矩阵）"
   ]
  },
  {
   "cell_type": "code",
   "execution_count": 6,
   "metadata": {},
   "outputs": [
    {
     "data": {
      "text/plain": [
       "[[1, 0, 0, 0, 305/3931],\n",
       " [0, 1, 0, 0, -4020/3931],\n",
       " [0, 0, 1, 0, -5724/3931],\n",
       " [0, 0, 0, 1, -1456/3931]]"
      ]
     },
     "execution_count": 6,
     "metadata": {},
     "output_type": "execute_result"
    }
   ],
   "source": [
    "arr2 = mat2[0].tolist()\n",
    "arr2"
   ]
  },
  {
   "cell_type": "code",
   "execution_count": 7,
   "metadata": {},
   "outputs": [
    {
     "data": {
      "text/plain": [
       "array([[ 1.        ,  0.        ,  0.        ,  0.        ,  0.0775884 ],\n",
       "       [ 0.        ,  1.        ,  0.        ,  0.        , -1.02264055],\n",
       "       [ 0.        ,  0.        ,  1.        ,  0.        , -1.45611804],\n",
       "       [ 0.        ,  0.        ,  0.        ,  1.        , -0.37038921]])"
      ]
     },
     "execution_count": 7,
     "metadata": {},
     "output_type": "execute_result"
    }
   ],
   "source": [
    "arr2 = np.array(arr2, dtype=float)\n",
    "type(arr2)\n",
    "arr2\n",
    "# 可转回numpy格式数据,或用：(Matrix(arr2).rref()[0].tolist()).astype(np.int32)\n",
    "# 第1题(a)使用了numpy呈现数据，以后将均使用sympy的矩阵Matrix呈现数据。"
   ]
  },
  {
   "cell_type": "code",
   "execution_count": 8,
   "metadata": {},
   "outputs": [
    {
     "data": {
      "text/latex": [
       "$\\displaystyle \\left[\\begin{matrix}2 & -4 & -15 & 1 & 0\\\\-17 & -2 & -6 & -4 & 10\\\\19 & 8 & -3 & -17 & 11\\\\-1 & 5 & -19 & 0 & 4\\end{matrix}\\right]$"
      ],
      "text/plain": [
       "Matrix([\n",
       "[  2, -4, -15,   1,  0],\n",
       "[-17, -2,  -6,  -4, 10],\n",
       "[ 19,  8,  -3, -17, 11],\n",
       "[ -1,  5, -19,   0,  4]])"
      ]
     },
     "execution_count": 8,
     "metadata": {},
     "output_type": "execute_result"
    }
   ],
   "source": [
    "from sympy import *\n",
    "# 题：(b) 生成一个元素绝对值最大为 20 的 5 × 6 的随机矩阵，并以它为增广矩阵求解方程组。\n",
    "\n",
    "Matb = randMatrix(4, 5, -20, 20)\n",
    "Matb"
   ]
  },
  {
   "cell_type": "code",
   "execution_count": 10,
   "metadata": {},
   "outputs": [
    {
     "data": {
      "text/latex": [
       "$\\displaystyle \\left[\\begin{matrix}1 & 0 & 0 & 0 & - \\frac{3274}{9695}\\\\0 & 1 & 0 & 0 & \\frac{1895}{11634}\\\\0 & 0 & 1 & 0 & - \\frac{8719}{58170}\\\\0 & 0 & 0 & 1 & - \\frac{53597}{58170}\\end{matrix}\\right]$"
      ],
      "text/plain": [
       "Matrix([\n",
       "[1, 0, 0, 0,   -3274/9695],\n",
       "[0, 1, 0, 0,   1895/11634],\n",
       "[0, 0, 1, 0,  -8719/58170],\n",
       "[0, 0, 0, 1, -53597/58170]])"
      ]
     },
     "execution_count": 10,
     "metadata": {},
     "output_type": "execute_result"
    }
   ],
   "source": [
    "Matb.rref()[0]"
   ]
  },
  {
   "cell_type": "code",
   "execution_count": null,
   "metadata": {},
   "outputs": [],
   "source": [
    "# 后面1.2-1.4题涉及MATLAB消元语句，这里不再阐释。"
   ]
  }
 ],
 "metadata": {
  "kernelspec": {
   "display_name": "Python 3",
   "language": "python",
   "name": "python3"
  },
  "language_info": {
   "codemirror_mode": {
    "name": "ipython",
    "version": 3
   },
   "file_extension": ".py",
   "mimetype": "text/x-python",
   "name": "python",
   "nbconvert_exporter": "python",
   "pygments_lexer": "ipython3",
   "version": "3.8.0"
  }
 },
 "nbformat": 4,
 "nbformat_minor": 4
}

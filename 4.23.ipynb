{
 "cells": [
  {
   "cell_type": "code",
   "execution_count": 4,
   "metadata": {},
   "outputs": [
    {
     "data": {
      "text/latex": [
       "$\\displaystyle \\left[\\begin{matrix}27\\\\30.2\\\\60.9\\\\221\\\\607.7\\end{matrix}\\right]$"
      ],
      "text/plain": [
       "Matrix([\n",
       "[   27],\n",
       "[ 30.2],\n",
       "[ 60.9],\n",
       "[  221],\n",
       "[607.7]])"
      ]
     },
     "execution_count": 4,
     "metadata": {},
     "output_type": "execute_result"
    }
   ],
   "source": [
    "from sympy import *\n",
    "\n",
    "# 已知文革后高校历年录取人数如右表，分别用二次及三次多项式：\n",
    "# y = a0 + a1 * t + a2 * t**2\n",
    "# y = b0 + b1 * t + b2 * t**2 + b3 * t**3\n",
    "# t=[1977,1980,1990,2000,2008]\n",
    "# y=[27, 40.2, 60.9, 221, 607.7]\n",
    "# 拟合此数据，比较其拟合误差。\n",
    "\n",
    "t=[1977,1980,1990,2000,2008]\n",
    "A1 = Matrix(5,3, lambda i,j: t[i]**j)\n",
    "A2 = Matrix(5,4, lambda i,j: t[i]**j)\n",
    "B= Matrix([27, 30.2, 60.9, 221, 607.7])\n",
    "A2\n",
    "B"
   ]
  },
  {
   "cell_type": "code",
   "execution_count": 9,
   "metadata": {},
   "outputs": [
    {
     "data": {
      "text/latex": [
       "$\\displaystyle \\left[\\begin{matrix}4028921.0968147\\\\-4061.54061896043\\\\1.02360541760627\\end{matrix}\\right]$"
      ],
      "text/plain": [
       "Matrix([\n",
       "[  4028921.0968147],\n",
       "[-4061.54061896043],\n",
       "[ 1.02360541760627]])"
      ]
     },
     "execution_count": 9,
     "metadata": {},
     "output_type": "execute_result"
    }
   ],
   "source": [
    "X1 = A1.pinv()*B\n",
    "X1"
   ]
  },
  {
   "cell_type": "code",
   "execution_count": 10,
   "metadata": {},
   "outputs": [
    {
     "data": {
      "text/latex": [
       "$\\displaystyle \\left[\\begin{matrix}-284929511.584066\\\\430963.212704924\\\\-217.281463897636\\\\0.0365161456333484\\end{matrix}\\right]$"
      ],
      "text/plain": [
       "Matrix([\n",
       "[ -284929511.584066],\n",
       "[  430963.212704924],\n",
       "[ -217.281463897636],\n",
       "[0.0365161456333484]])"
      ]
     },
     "execution_count": 10,
     "metadata": {},
     "output_type": "execute_result"
    }
   ],
   "source": [
    "X2 = A2.pinv()*B\n",
    "X2"
   ]
  },
  {
   "cell_type": "code",
   "execution_count": 14,
   "metadata": {},
   "outputs": [
    {
     "data": {
      "image/png": "[encoded data removed]",
      "text/plain": [
       "<Figure size 432x288 with 1 Axes>"
      ]
     },
     "metadata": {
      "needs_background": "light"
     },
     "output_type": "display_data"
    }
   ],
   "source": [
    "# 以上求得两个拟合方程\n",
    "# 绘图查看拟合情况：\n",
    "import numpy as np\n",
    "import matplotlib.pyplot as plt\n",
    "\n",
    "x = np.linspace(1970,2015,50)\n",
    "y1 = X1[0] + X1[1] * x + X1[2] * x**2\n",
    "y2 = X2[0] + X2[1] * x + X2[2] * x**2 + X2[3] * x**3\n",
    "plt.figure(1)\n",
    "plt.plot(x,y1)\n",
    "plt.plot(x,y2, color='green')\n",
    "\n",
    "ptszip = zip( t , B )\n",
    "pts = list(ptszip)\n",
    "\n",
    "for i,j in pts:\n",
    "    plt.plot(i,j, 'rx')\n",
    "    # 'rx'表示红色×号点\n",
    "\n",
    "plt.show()"
   ]
  },
  {
   "cell_type": "code",
   "execution_count": 17,
   "metadata": {},
   "outputs": [
    {
     "data": {
      "text/latex": [
       "$\\displaystyle 57.3895639854554$"
      ],
      "text/plain": [
       "57.3895639854554"
      ]
     },
     "execution_count": 17,
     "metadata": {},
     "output_type": "execute_result"
    }
   ],
   "source": [
    "# 通过求均方误差比较拟合精度\n",
    "e1 = A1*X1 - B\n",
    "norme1 = e1.norm()\n",
    "norme1"
   ]
  },
  {
   "cell_type": "code",
   "execution_count": 19,
   "metadata": {},
   "outputs": [
    {
     "data": {
      "text/latex": [
       "$\\displaystyle 7.31938757236603$"
      ],
      "text/plain": [
       "7.31938757236603"
      ]
     },
     "execution_count": 19,
     "metadata": {},
     "output_type": "execute_result"
    }
   ],
   "source": [
    "e2 = A2*X2 - B\n",
    "norme2 = e2.norm()\n",
    "norme2"
   ]
  },
  {
   "cell_type": "code",
   "execution_count": 20,
   "metadata": {},
   "outputs": [],
   "source": [
    "# 三次多项式拟合精度优于二次多项式"
   ]
  },
  {
   "cell_type": "code",
   "execution_count": null,
   "metadata": {},
   "outputs": [],
   "source": [
    "\n",
    "# 这里我们发现用matlab计算伪逆时会出现警告\n",
    "# 代码：\n",
    "# t=[1977,1980,1990,2000,2008]';y=[27,30.2,60.9,221,607.7]'; \n",
    "# Aa=[ones(5,1),t,t.^2], alpha=inv(Aa'*Aa)*Aa'*y \n",
    "# Ab=[ones(5,1),t,t.^2,t.^3], beta=inv(Ab'*Ab)*Ab'*y\n",
    "#\n",
    "# 警告: 矩阵接近奇异值，或者缩放错误。结果可能不准确。RCOND =  3.622908e-23。 \n",
    "# 警告: 矩阵接近奇异值，或者缩放错误。结果可能不准确。RCOND =  1.260634e-34。 \n",
    "# 原题解里使用了改变时间起点，把 1970 年作为起点的方法解题，但sympy可以直接拿来计算使用。"
   ]
  }
 ],
 "metadata": {
  "kernelspec": {
   "display_name": "Python 3",
   "language": "python",
   "name": "python3"
  },
  "language_info": {
   "codemirror_mode": {
    "name": "ipython",
    "version": 3
   },
   "file_extension": ".py",
   "mimetype": "text/x-python",
   "name": "python",
   "nbconvert_exporter": "python",
   "pygments_lexer": "ipython3",
   "version": "3.8.0"
  }
 },
 "nbformat": 4,
 "nbformat_minor": 4
}

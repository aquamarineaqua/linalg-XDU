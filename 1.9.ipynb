{
 "cells": [
  {
   "cell_type": "code",
   "execution_count": 2,
   "metadata": {},
   "outputs": [
    {
     "data": {
      "text/latex": [
       "$\\displaystyle \\left[\\begin{matrix}1 & -0.25 & -0.25 & 0 & 0 & 0\\\\-0.25 & 1 & 0 & -0.25 & 0 & 0\\\\-0.25 & 0 & 1 & -0.25 & -0.25 & 0\\\\0 & -0.25 & -0.25 & 1 & 0 & -0.25\\\\0 & 0 & -0.25 & 0 & 1 & -0.25\\\\0 & 0 & 0 & -0.25 & -0.25 & 1\\end{matrix}\\right]$"
      ],
      "text/plain": [
       "Matrix([\n",
       "[    1, -0.25, -0.25,     0,     0,     0],\n",
       "[-0.25,     1,     0, -0.25,     0,     0],\n",
       "[-0.25,     0,     1, -0.25, -0.25,     0],\n",
       "[    0, -0.25, -0.25,     1,     0, -0.25],\n",
       "[    0,     0, -0.25,     0,     1, -0.25],\n",
       "[    0,     0,     0, -0.25, -0.25,     1]])"
      ]
     },
     "execution_count": 2,
     "metadata": {},
     "output_type": "execute_result"
    }
   ],
   "source": [
    "# 1.9方程组：\n",
    "# T1=(0+20+T2+T3)/4\n",
    "# T2=(T1+0+T4+0)/4\n",
    "# T3=(T1+20+T4+T5)/4\n",
    "# T4=(T2+0+T3+T6)/4\n",
    "# T5=(T3+20+40+T6)/4\n",
    "# T6=(T4+0+T5+40)/4\n",
    "\n",
    "from sympy import Matrix\n",
    "from sympy import *\n",
    "k = symbols('k')\n",
    "k = -0.25\n",
    "A = Matrix(([1,k,k,0,0,0],[k,1,0,k,0,0],[k,0,1,k,k,0],[0,k,k,1,0,k],[0,0,k,0,1,k],[0,0,0,k,k,1]))\n",
    "A"
   ]
  },
  {
   "cell_type": "code",
   "execution_count": 3,
   "metadata": {},
   "outputs": [
    {
     "data": {
      "text/latex": [
       "$\\displaystyle \\left[\\begin{matrix}5\\\\0\\\\5\\\\0\\\\15\\\\10\\end{matrix}\\right]$"
      ],
      "text/plain": [
       "Matrix([\n",
       "[ 5],\n",
       "[ 0],\n",
       "[ 5],\n",
       "[ 0],\n",
       "[15],\n",
       "[10]])"
      ]
     },
     "execution_count": 3,
     "metadata": {},
     "output_type": "execute_result"
    }
   ],
   "source": [
    "b = Matrix([5,0,5,0,15,10])\n",
    "b"
   ]
  },
  {
   "cell_type": "code",
   "execution_count": 4,
   "metadata": {},
   "outputs": [
    {
     "data": {
      "text/latex": [
       "$\\displaystyle \\left\\{\\left( 10.2277432712215, \\  5.01035196687371, \\  15.9006211180124, \\  9.81366459627329, \\  23.5610766045549, \\  18.343685300207\\right)\\right\\}$"
      ],
      "text/plain": [
       "FiniteSet((10.2277432712215, 5.01035196687371, 15.9006211180124, 9.81366459627329, 23.5610766045549, 18.343685300207))"
      ]
     },
     "execution_count": 4,
     "metadata": {},
     "output_type": "execute_result"
    }
   ],
   "source": [
    "T1,T2,T3,T4,T5,T6 = symbols('T1 T2 T3 T4 T5 T6')\n",
    "MatT = linsolve(Matrix([[A,b]]),(T1,T2,T3,T4,T5,T6))\n",
    "# linsolve方法，传入一个增广矩阵，再传入一个待求解集，求解\n",
    "MatT\n",
    "# MatT解集是一个集合set"
   ]
  },
  {
   "cell_type": "code",
   "execution_count": 5,
   "metadata": {},
   "outputs": [
    {
     "data": {
      "text/latex": [
       "$\\displaystyle 10.2277432712215$"
      ],
      "text/plain": [
       "10.2277432712215"
      ]
     },
     "execution_count": 5,
     "metadata": {},
     "output_type": "execute_result"
    }
   ],
   "source": [
    "t1,t2,t3,t4,t5,t6 = list(MatT)[0]\n",
    "t1"
   ]
  },
  {
   "cell_type": "code",
   "execution_count": null,
   "metadata": {},
   "outputs": [],
   "source": []
  },
  {
   "cell_type": "code",
   "execution_count": null,
   "metadata": {},
   "outputs": [],
   "source": []
  }
 ],
 "metadata": {
  "kernelspec": {
   "display_name": "Python 3",
   "language": "python",
   "name": "python3"
  },
  "language_info": {
   "codemirror_mode": {
    "name": "ipython",
    "version": 3
   },
   "file_extension": ".py",
   "mimetype": "text/x-python",
   "name": "python",
   "nbconvert_exporter": "python",
   "pygments_lexer": "ipython3",
   "version": "3.8.0"
  }
 },
 "nbformat": 4,
 "nbformat_minor": 4
}

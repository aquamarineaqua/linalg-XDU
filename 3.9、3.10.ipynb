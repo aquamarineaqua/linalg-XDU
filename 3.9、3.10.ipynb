{
 "cells": [
  {
   "cell_type": "code",
   "execution_count": 19,
   "metadata": {},
   "outputs": [
    {
     "data": {
      "text/latex": [
       "$\\displaystyle \\left[\\begin{matrix}1 & 1 & 7\\\\0 & 2 & 1\\\\-2 & 4 & 0\\end{matrix}\\right]$"
      ],
      "text/plain": [
       "Matrix([\n",
       "[ 1, 1, 7],\n",
       "[ 0, 2, 1],\n",
       "[-2, 4, 0]])"
      ]
     },
     "execution_count": 19,
     "metadata": {},
     "output_type": "execute_result"
    }
   ],
   "source": [
    "from sympy import Matrix\n",
    "from sympy import *\n",
    "\n",
    "# 求一个顶点在原点，相邻顶点在以下三点的平行六面体的体积\n",
    "# =================3.9===================\n",
    "\n",
    "# (a)\n",
    "# Matlab：va1=[1,0,-2]', va2=[1,2,4]', va3=[7,1,0]', Vola=abs(det([va1,va2,va3]))\n",
    "Va1 = [1,0,-2]\n",
    "Va2 = [1,2,4]\n",
    "Va3 = [7,1,0]\n",
    "A = Matrix([[Matrix(Va1),Matrix(Va2),Matrix(Va3)]])\n",
    "A"
   ]
  },
  {
   "cell_type": "code",
   "execution_count": 22,
   "metadata": {},
   "outputs": [
    {
     "data": {
      "text/latex": [
       "$\\displaystyle 22$"
      ],
      "text/plain": [
       "22"
      ]
     },
     "execution_count": 22,
     "metadata": {},
     "output_type": "execute_result"
    }
   ],
   "source": [
    "VA = abs(A.det())\n",
    "VA"
   ]
  },
  {
   "cell_type": "code",
   "execution_count": 23,
   "metadata": {},
   "outputs": [
    {
     "data": {
      "text/latex": [
       "$\\displaystyle \\left[\\begin{matrix}1 & -2 & -1\\\\4 & -5 & 2\\\\0 & 2 & -1\\end{matrix}\\right]$"
      ],
      "text/plain": [
       "Matrix([\n",
       "[1, -2, -1],\n",
       "[4, -5,  2],\n",
       "[0,  2, -1]])"
      ]
     },
     "execution_count": 23,
     "metadata": {},
     "output_type": "execute_result"
    }
   ],
   "source": [
    "# (b)\n",
    "# Matlab：vb1=[1,4,0]', vb2=[-2,-5,2]', vb3=[-1,2,-1]', Volb=abs(det([vb1,vb2,vb3]))\n",
    "Vb1=[1,4,0]\n",
    "Vb2=[-2,-5,2]\n",
    "Vb3=[-1,2,-1]\n",
    "B = Matrix([[Matrix(Vb1),Matrix(Vb2),Matrix(Vb3)]])\n",
    "B"
   ]
  },
  {
   "cell_type": "code",
   "execution_count": 24,
   "metadata": {},
   "outputs": [
    {
     "data": {
      "text/latex": [
       "$\\displaystyle 15$"
      ],
      "text/plain": [
       "15"
      ]
     },
     "execution_count": 24,
     "metadata": {},
     "output_type": "execute_result"
    }
   ],
   "source": [
    "VB = abs(B.det())\n",
    "VB"
   ]
  },
  {
   "cell_type": "code",
   "execution_count": 25,
   "metadata": {},
   "outputs": [
    {
     "data": {
      "text/latex": [
       "$\\displaystyle \\left[\\begin{matrix}2 & 2 & -1 & 1\\\\4 & 3 & -1 & 2\\\\8 & 5 & -3 & 4\\\\3 & 3 & -2 & 2\\end{matrix}\\right]$"
      ],
      "text/plain": [
       "Matrix([\n",
       "[2, 2, -1, 1],\n",
       "[4, 3, -1, 2],\n",
       "[8, 5, -3, 4],\n",
       "[3, 3, -2, 2]])"
      ]
     },
     "execution_count": 25,
     "metadata": {},
     "output_type": "execute_result"
    }
   ],
   "source": [
    "# =================3.10===================\n",
    "# 用克莱姆法则解下列方程组\n",
    "\n",
    "# (a)\n",
    "# Matlab：Aa=[2,2,-1,1;4,3,-1,2;8,5,-3,4;3,3,-2,2], ba=[4;6;12;6],Da=det(Aa);\n",
    "# xa1=Da\\det([ba,Aa(:,2:4)]), xa2=Da\\det([Aa(:,1),ba,Aa(:,3:4)]),\n",
    "# xa3=Da\\det([Aa(:,1:2),ba,Aa(:,4)]), xa4=Da\\det([Aa(:,1:3),ba])\n",
    "# 得到： xa1=xa2=1, xa3=xa4=-1\n",
    "\n",
    "Aa = Matrix([[2,2,-1,1],[4,3,-1,2],[8,5,-3,4],[3,3,-2,2]])\n",
    "Aa"
   ]
  },
  {
   "cell_type": "code",
   "execution_count": 26,
   "metadata": {},
   "outputs": [
    {
     "data": {
      "text/latex": [
       "$\\displaystyle \\left[\\begin{matrix}4\\\\6\\\\12\\\\6\\end{matrix}\\right]$"
      ],
      "text/plain": [
       "Matrix([\n",
       "[ 4],\n",
       "[ 6],\n",
       "[12],\n",
       "[ 6]])"
      ]
     },
     "execution_count": 26,
     "metadata": {},
     "output_type": "execute_result"
    }
   ],
   "source": [
    "ba = Matrix([4,6,12,6])\n",
    "ba"
   ]
  },
  {
   "cell_type": "code",
   "execution_count": 27,
   "metadata": {},
   "outputs": [
    {
     "data": {
      "text/latex": [
       "$\\displaystyle 2$"
      ],
      "text/plain": [
       "2"
      ]
     },
     "execution_count": 27,
     "metadata": {},
     "output_type": "execute_result"
    }
   ],
   "source": [
    "Da = Aa.det()\n",
    "Da"
   ]
  },
  {
   "cell_type": "code",
   "execution_count": 29,
   "metadata": {},
   "outputs": [
    {
     "data": {
      "text/latex": [
       "$\\displaystyle 1$"
      ],
      "text/plain": [
       "1"
      ]
     },
     "execution_count": 29,
     "metadata": {},
     "output_type": "execute_result"
    }
   ],
   "source": [
    "Xa1 = Matrix([[ba,Aa[:,1:]]]).det()/Da\n",
    "Xa1"
   ]
  },
  {
   "cell_type": "code",
   "execution_count": 30,
   "metadata": {},
   "outputs": [
    {
     "data": {
      "text/latex": [
       "$\\displaystyle 1$"
      ],
      "text/plain": [
       "1"
      ]
     },
     "execution_count": 30,
     "metadata": {},
     "output_type": "execute_result"
    }
   ],
   "source": [
    "Xa2 = Matrix([[Aa[:,0],ba,Aa[:,2:]]]).det()/Da\n",
    "Xa2"
   ]
  },
  {
   "cell_type": "code",
   "execution_count": 36,
   "metadata": {},
   "outputs": [
    {
     "data": {
      "text/latex": [
       "$\\displaystyle -1$"
      ],
      "text/plain": [
       "-1"
      ]
     },
     "execution_count": 36,
     "metadata": {},
     "output_type": "execute_result"
    }
   ],
   "source": [
    "Xa3 = Matrix([[Aa[:,0:2],ba,Aa[:,3]]]).det()/Da\n",
    "Xa3"
   ]
  },
  {
   "cell_type": "code",
   "execution_count": 37,
   "metadata": {},
   "outputs": [
    {
     "data": {
      "text/latex": [
       "$\\displaystyle -1$"
      ],
      "text/plain": [
       "-1"
      ]
     },
     "execution_count": 37,
     "metadata": {},
     "output_type": "execute_result"
    }
   ],
   "source": [
    "Xa4 = Matrix([[Aa[:,:3],ba]]).det()/Da\n",
    "Xa4"
   ]
  },
  {
   "cell_type": "code",
   "execution_count": 38,
   "metadata": {},
   "outputs": [
    {
     "data": {
      "text/latex": [
       "$\\displaystyle \\left[\\begin{matrix}2 & 2 & 11 & 5\\\\1 & 1 & 5 & 2\\\\2 & 1 & 3 & 2\\\\1 & 1 & 3 & 4\\end{matrix}\\right]$"
      ],
      "text/plain": [
       "Matrix([\n",
       "[2, 2, 11, 5],\n",
       "[1, 1,  5, 2],\n",
       "[2, 1,  3, 2],\n",
       "[1, 1,  3, 4]])"
      ]
     },
     "execution_count": 38,
     "metadata": {},
     "output_type": "execute_result"
    }
   ],
   "source": [
    "# (b)\n",
    "# Matlab：Ab=[2,2,11,5;1,1,5,2;2,1,3,2;1,1,3,4], bb=[2;1;-3;-3],Db=det(Ab);\n",
    "# xb1=Db\\det([bb,Ab(:,2:4)]), xb2=Db\\det([Ab(:,1),bb,Ab(:,3:4)]),\n",
    "# xb3=Db\\det([Ab(:,1:2),bb,Ab(:,4)]), xb4=Db\\det([Ab(:,1:3),bb]),\n",
    "# 得到： xb1= -2, xb2=0, xb3= -1, xb4=1 <<<<pdf里的答案似乎有错\n",
    "\n",
    "Ab = Matrix([[2,2,11,5],[1,1,5,2],[2,1,3,2],[1,1,3,4]])\n",
    "Ab"
   ]
  },
  {
   "cell_type": "code",
   "execution_count": 40,
   "metadata": {},
   "outputs": [
    {
     "data": {
      "text/latex": [
       "$\\displaystyle \\left[\\begin{matrix}2\\\\1\\\\-3\\\\-3\\end{matrix}\\right]$"
      ],
      "text/plain": [
       "Matrix([\n",
       "[ 2],\n",
       "[ 1],\n",
       "[-3],\n",
       "[-3]])"
      ]
     },
     "execution_count": 40,
     "metadata": {},
     "output_type": "execute_result"
    }
   ],
   "source": [
    "bb = Matrix([2,1,-3,-3])\n",
    "bb"
   ]
  },
  {
   "cell_type": "code",
   "execution_count": 41,
   "metadata": {},
   "outputs": [
    {
     "data": {
      "text/latex": [
       "$\\displaystyle -4$"
      ],
      "text/plain": [
       "-4"
      ]
     },
     "execution_count": 41,
     "metadata": {},
     "output_type": "execute_result"
    }
   ],
   "source": [
    "Db = Ab.det()\n",
    "Db"
   ]
  },
  {
   "cell_type": "code",
   "execution_count": 42,
   "metadata": {},
   "outputs": [
    {
     "data": {
      "text/latex": [
       "$\\displaystyle -2$"
      ],
      "text/plain": [
       "-2"
      ]
     },
     "execution_count": 42,
     "metadata": {},
     "output_type": "execute_result"
    }
   ],
   "source": [
    "Xb1 = Matrix([[bb,Ab[:,1:]]]).det()/Db\n",
    "Xb1"
   ]
  },
  {
   "cell_type": "code",
   "execution_count": 43,
   "metadata": {},
   "outputs": [
    {
     "data": {
      "text/latex": [
       "$\\displaystyle 0$"
      ],
      "text/plain": [
       "0"
      ]
     },
     "execution_count": 43,
     "metadata": {},
     "output_type": "execute_result"
    }
   ],
   "source": [
    "Xb2 = Matrix([[Ab[:,0],bb,Ab[:,2:]]]).det()/Db\n",
    "Xb2"
   ]
  },
  {
   "cell_type": "code",
   "execution_count": 44,
   "metadata": {},
   "outputs": [
    {
     "data": {
      "text/latex": [
       "$\\displaystyle 1$"
      ],
      "text/plain": [
       "1"
      ]
     },
     "execution_count": 44,
     "metadata": {},
     "output_type": "execute_result"
    }
   ],
   "source": [
    "Xb3 = Matrix([[Ab[:,0:2],bb,Ab[:,3]]]).det()/Db\n",
    "Xb3"
   ]
  },
  {
   "cell_type": "code",
   "execution_count": 45,
   "metadata": {},
   "outputs": [
    {
     "data": {
      "text/latex": [
       "$\\displaystyle -1$"
      ],
      "text/plain": [
       "-1"
      ]
     },
     "execution_count": 45,
     "metadata": {},
     "output_type": "execute_result"
    }
   ],
   "source": [
    "Xb4 = Matrix([[Ab[:,:3],bb]]).det()/Db\n",
    "Xb4"
   ]
  },
  {
   "cell_type": "code",
   "execution_count": null,
   "metadata": {},
   "outputs": [],
   "source": []
  },
  {
   "cell_type": "code",
   "execution_count": null,
   "metadata": {},
   "outputs": [],
   "source": []
  }
 ],
 "metadata": {
  "kernelspec": {
   "display_name": "Python 3",
   "language": "python",
   "name": "python3"
  },
  "language_info": {
   "codemirror_mode": {
    "name": "ipython",
    "version": 3
   },
   "file_extension": ".py",
   "mimetype": "text/x-python",
   "name": "python",
   "nbconvert_exporter": "python",
   "pygments_lexer": "ipython3",
   "version": "3.8.0"
  }
 },
 "nbformat": 4,
 "nbformat_minor": 4
}

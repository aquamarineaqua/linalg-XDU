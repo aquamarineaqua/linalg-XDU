{
 "cells": [
  {
   "cell_type": "code",
   "execution_count": 6,
   "metadata": {},
   "outputs": [
    {
     "data": {
      "text/latex": [
       "$\\displaystyle \\left\\{\\left( \\frac{5}{2}, \\  - \\frac{9}{2}, \\  4\\right)\\right\\}$"
      ],
      "text/plain": [
       "FiniteSet((5/2, -9/2, 4))"
      ]
     },
     "execution_count": 6,
     "metadata": {},
     "output_type": "execute_result"
    }
   ],
   "source": [
    "from sympy import *\n",
    "\n",
    "# 求出通过平面上三点(0,4),(1,2),(2,5)的二次多项式 ax^2 + bx + c ，并画出其图形。\n",
    "# 若要求它通过点(3,9)，可以做到吗？要使四个线性方程误差的均方根最小，二次多项式应具有何种形式？\n",
    "\n",
    "# 将三点带入，得到方程：c=4、a+b+c=2、4a+2b+c=5\n",
    "\n",
    "A=Matrix([[0,0,1],[1,1,1],[4,2,1]])\n",
    "B=Matrix([4,2,5])\n",
    "a,b,c = symbols('a b c')\n",
    "re = linsolve(Matrix([[A,B]]),(a,b,c))\n",
    "re"
   ]
  },
  {
   "cell_type": "code",
   "execution_count": 12,
   "metadata": {},
   "outputs": [
    {
     "data": {
      "text/plain": [
       "(5/2, -9/2, 4)"
      ]
     },
     "execution_count": 12,
     "metadata": {},
     "output_type": "execute_result"
    }
   ],
   "source": [
    "a, b, c = list(re)[0]\n",
    "a, b, c\n",
    "# 多项式为f(x) = 2.5x^2 - 4.5x + 4\n",
    "# 但是 f(3)= 9a + 3b + c 不等于 9，属于超定方程组拟合问题"
   ]
  },
  {
   "cell_type": "code",
   "execution_count": 14,
   "metadata": {},
   "outputs": [
    {
     "data": {
      "text/latex": [
       "$\\displaystyle \\left[\\begin{matrix}\\frac{3}{2}\\\\- \\frac{27}{10}\\\\\\frac{19}{5}\\end{matrix}\\right]$"
      ],
      "text/plain": [
       "Matrix([\n",
       "[   3/2],\n",
       "[-27/10],\n",
       "[  19/5]])"
      ]
     },
     "execution_count": 14,
     "metadata": {},
     "output_type": "execute_result"
    }
   ],
   "source": [
    "A1 = Matrix([[0,0,1],[1,1,1],[4,2,1],[9,3,1]])\n",
    "B1 = Matrix([4,2,5,9])\n",
    "# A1*X=B1。 求X = pinv(A1)*B1 ,求A1的伪逆。\n",
    "X = A1.pinv()*B1\n",
    "X"
   ]
  },
  {
   "cell_type": "code",
   "execution_count": 36,
   "metadata": {},
   "outputs": [
    {
     "data": {
      "image/png": "[encoded data removed]",
      "text/plain": [
       "<Figure size 432x288 with 1 Axes>"
      ]
     },
     "metadata": {
      "needs_background": "light"
     },
     "output_type": "display_data"
    }
   ],
   "source": [
    "# 得到拟合方程为： f1(x) = 1.5x^2 - 2.7x + 3.8\n",
    "# 画图观察拟合情况（sympy不能绘点，继续用matplotlib）：\n",
    "\n",
    "import numpy as np\n",
    "import matplotlib.pyplot as plt\n",
    "\n",
    "x = np.linspace(-1,4,50)\n",
    "# 先构建x范围，50是表示分成50个小点（matplotlib本质是50个小点进行连线绘图，值越小线越看上去像折线连线）\n",
    "y = 2.5*(x**2) - 4.5*x + 4 \n",
    "y1 = 1.5*(x**2) - 2.7*x + 3.8\n",
    "# 再给出y范围\n",
    "\n",
    "plt.figure()\n",
    "plt.plot(x,y)\n",
    "plt.plot(x,y1 ,color='red')\n",
    "plt.plot(0,4, 'bo')\n",
    "# 绘制点：'bo'：使用蓝色（blue）、圆点型绘图\n",
    "plt.plot(1,2, 'bo')\n",
    "plt.plot(2,5, 'bo')\n",
    "plt.plot(3,9, 'bo')\n",
    "\n",
    "plt.show()"
   ]
  },
  {
   "cell_type": "code",
   "execution_count": null,
   "metadata": {},
   "outputs": [],
   "source": []
  }
 ],
 "metadata": {
  "kernelspec": {
   "display_name": "Python 3",
   "language": "python",
   "name": "python3"
  },
  "language_info": {
   "codemirror_mode": {
    "name": "ipython",
    "version": 3
   },
   "file_extension": ".py",
   "mimetype": "text/x-python",
   "name": "python",
   "nbconvert_exporter": "python",
   "pygments_lexer": "ipython3",
   "version": "3.8.0"
  }
 },
 "nbformat": 4,
 "nbformat_minor": 4
}

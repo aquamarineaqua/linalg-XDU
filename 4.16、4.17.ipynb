{
 "cells": [
  {
   "cell_type": "code",
   "execution_count": 1,
   "metadata": {},
   "outputs": [
    {
     "data": {
      "text/plain": [
       "(31.6713523994167, 19.8254968492493)"
      ]
     },
     "execution_count": 1,
     "metadata": {},
     "output_type": "execute_result"
    }
   ],
   "source": [
    "from sympy import *\n",
    "\n",
    "# ===========4.16==========\n",
    "# 已知健康孩子的心脏收缩血压 p(毫米汞柱)与他的体重 w(斤)之间的近似关系为 β0 + β1 * ln w = p，结果数据如下\n",
    "# w    20   30   40   50   60 \n",
    "# lnw 3.00 3.40 3.69 3.91 4.09 \n",
    "# p    91   99   105  110  112\n",
    "# (a) 根据以上统计数据来确定 β0、β1 的值。\n",
    "# (b) 对于体重为 45(斤)的孩子，其收缩压的标准值应为多少？\n",
    "\n",
    "# 方程式：\n",
    "# b0 + 3*b1 = 91\n",
    "# b0 + 3.4*b1 = 99\n",
    "# b0 + 3.69*b1 = 105\n",
    "# b0 + 3.91*b1 = 110\n",
    "# b0 + 4.09*b1 = 112\n",
    "\n",
    "A = Matrix([[1,3],[1,3.4],[1,3.69],[1,3.91],[1,4.09]])\n",
    "b = Matrix([91,99,105,110,112])\n",
    "B = A.pinv()*b\n",
    "b0,b1 = B\n",
    "b0,b1"
   ]
  },
  {
   "cell_type": "code",
   "execution_count": 2,
   "metadata": {},
   "outputs": [
    {
     "data": {
      "text/latex": [
       "$\\displaystyle 107.140327596514$"
      ],
      "text/plain": [
       "107.140327596514"
      ]
     },
     "execution_count": 2,
     "metadata": {},
     "output_type": "execute_result"
    }
   ],
   "source": [
    "( b0 + b1 * log(45) ).evalf()\n",
    "# log默认为自然对数\n",
    "# 在sympy里默认会将一些运算结果用分数或对数表示，需要在后面加上evalf()方法将其算出来"
   ]
  },
  {
   "cell_type": "code",
   "execution_count": 3,
   "metadata": {},
   "outputs": [
    {
     "data": {
      "text/latex": [
       "$\\displaystyle \\left[\\begin{matrix}0.2 & 0.8 & 0.4\\\\0.3 & 0.1 & 0.4\\\\0.5 & 0.1 & 0.2\\end{matrix}\\right]$"
      ],
      "text/plain": [
       "Matrix([\n",
       "[0.2, 0.8, 0.4],\n",
       "[0.3, 0.1, 0.4],\n",
       "[0.5, 0.1, 0.2]])"
      ]
     },
     "execution_count": 3,
     "metadata": {},
     "output_type": "execute_result"
    }
   ],
   "source": [
    "\n",
    "# ===========4.17==========\n",
    "# 设某经济体有三个部门：化工、动力和机械制造。化工部门把它产出的 30%卖给动力部门，50%卖给机械部门，其余自己留用。\n",
    "# 动力部门把它产出的 80%卖给化工部门，10%卖给机械部门，其余自己留用。\n",
    "# 机械部门把它产出的 40%卖给动力部门，40%卖给化工部门，其余自己留用。\n",
    "# (a) 列出此经济体的交换表；\n",
    "# (b) 求出此经济体的平衡价格。\n",
    "\n",
    "# 顺序为化工为1,动力为2,机械为3。列出交换矩阵。\n",
    "A=Matrix([[0.2,0.3,0.5],[0.8,0.1,0.1],[0.4,0.4,0.2]])\n",
    "A= A.T\n",
    "A"
   ]
  },
  {
   "cell_type": "code",
   "execution_count": null,
   "metadata": {},
   "outputs": [],
   "source": []
  },
  {
   "cell_type": "code",
   "execution_count": 4,
   "metadata": {},
   "outputs": [
    {
     "data": {
      "text/plain": [
       "{x2: 0.916666666666667*x3, x1: 1.41666666666667*x3}"
      ]
     },
     "execution_count": 4,
     "metadata": {},
     "output_type": "execute_result"
    }
   ],
   "source": [
    "# 解法1：方程组解法\n",
    "# 求经济体的平衡价格，意味着该部门卖出去的价值和买到的价值相等。\n",
    "# 设化工部门总创造价值为x1，动力部门为x2，机械部门为x3。\n",
    "# 则化工部门买卖收支平衡用方程式表示为： x1 = 0.2 * x1 + 0.8 * x2 + 0.4 * x3\n",
    "# 则动力部门： x2 = 0.3 * x1 + 0.1 * x2 + 0.4 * x3\n",
    "# 则机械部门： x3 = 0.5 * x1 + 0.1 * x2 + 0.2 * x3\n",
    "# 即方程组为：-0.8 * x1 + 0.8 * x2 + 0.4 * x3 = 0, 0.3 * x1 - 0.9 * x2 + 0.4 * x3 = 0, 0.5 * x1 + 0.1 * x2 - 0.8 * x3 = 0\n",
    "\n",
    "x1,x2,x3 = symbols('x1 x2 x3')\n",
    "solve([-0.8 * x1 + 0.8 * x2 + 0.4 * x3, 0.3 * x1 - 0.9 * x2 + 0.4 * x3, 0.5 * x1 + 0.1 * x2 - 0.8 * x3],(x1,x2,x3))"
   ]
  },
  {
   "cell_type": "code",
   "execution_count": 5,
   "metadata": {},
   "outputs": [],
   "source": [
    "# 意味着平衡价格为： p1=1.4167 p3, p2=0.9167 p3"
   ]
  },
  {
   "cell_type": "code",
   "execution_count": 28,
   "metadata": {},
   "outputs": [
    {
     "data": {
      "text/latex": [
       "$\\displaystyle \\left[\\begin{matrix}1 & 0 & 0 & 0\\\\0 & 1 & 0 & 0\\\\0 & 0 & 1 & 0\\end{matrix}\\right]$"
      ],
      "text/plain": [
       "Matrix([\n",
       "[1, 0, 0, 0],\n",
       "[0, 1, 0, 0],\n",
       "[0, 0, 1, 0]])"
      ]
     },
     "execution_count": 28,
     "metadata": {},
     "output_type": "execute_result"
    }
   ],
   "source": [
    "\n",
    "# 解法2：矩阵解法\n",
    "# 详见教材P85页介绍的价格平衡模型的例题\n",
    "# 总的价格平衡方程可以写为： p-Vp=0 即 (I-V)p=0\n",
    "# 其中p为各部门实际产出的价格，为一个列向量；V为内部需求矩阵，每个部门为一个列向量，每个列向量表示其部门生产的价格在所有部门消耗的百分比。\n",
    "# 求p，即解方程\n",
    "\n",
    "Matrix([[(eye(3)-A),zeros(3,1)]]).rref()[0]"
   ]
  },
  {
   "cell_type": "code",
   "execution_count": 29,
   "metadata": {},
   "outputs": [
    {
     "data": {
      "text/latex": [
       "$\\displaystyle 0$"
      ],
      "text/plain": [
       "0"
      ]
     },
     "execution_count": 29,
     "metadata": {},
     "output_type": "execute_result"
    }
   ],
   "source": [
    "# 注意以上结果显示方程组为零解，这与答案不相符。我们看一下矩阵 eye(3)-A 的行列式：\n",
    "(eye(3)-A).det()"
   ]
  },
  {
   "cell_type": "code",
   "execution_count": null,
   "metadata": {},
   "outputs": [],
   "source": [
    "# 行列式算得为0，而在matlab中行列式算得为： -2.9310e-17，虽然接近于0但并不为0\n",
    "# 这解释了为何此题用rref求行最简形方法无法求出正确答案。\n",
    "# 可以看出sympy在求解矩阵行列式时存在求解错误的可能，从而可能导致求解方程组时出错。"
   ]
  }
 ],
 "metadata": {
  "kernelspec": {
   "display_name": "Python 3",
   "language": "python",
   "name": "python3"
  },
  "language_info": {
   "codemirror_mode": {
    "name": "ipython",
    "version": 3
   },
   "file_extension": ".py",
   "mimetype": "text/x-python",
   "name": "python",
   "nbconvert_exporter": "python",
   "pygments_lexer": "ipython3",
   "version": "3.8.0"
  }
 },
 "nbformat": 4,
 "nbformat_minor": 4
}

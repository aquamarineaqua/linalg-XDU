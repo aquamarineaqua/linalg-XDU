{
 "cells": [
  {
   "cell_type": "code",
   "execution_count": 1,
   "metadata": {},
   "outputs": [
    {
     "data": {
      "text/latex": [
       "$\\displaystyle \\left[\\begin{matrix}1 & 0 & 0 & 0\\\\1 & 1 & 1 & 1\\\\1 & 2 & 4 & 8\\\\1 & 3 & 9 & 27\\\\1 & 4 & 16 & 64\\\\1 & 5 & 25 & 125\\\\1 & 6 & 36 & 216\\\\1 & 7 & 49 & 343\\\\1 & 8 & 64 & 512\\\\1 & 9 & 81 & 729\\\\1 & 10 & 100 & 1000\\\\1 & 11 & 121 & 1331\\\\1 & 12 & 144 & 1728\\end{matrix}\\right]$"
      ],
      "text/plain": [
       "Matrix([\n",
       "[1,  0,   0,    0],\n",
       "[1,  1,   1,    1],\n",
       "[1,  2,   4,    8],\n",
       "[1,  3,   9,   27],\n",
       "[1,  4,  16,   64],\n",
       "[1,  5,  25,  125],\n",
       "[1,  6,  36,  216],\n",
       "[1,  7,  49,  343],\n",
       "[1,  8,  64,  512],\n",
       "[1,  9,  81,  729],\n",
       "[1, 10, 100, 1000],\n",
       "[1, 11, 121, 1331],\n",
       "[1, 12, 144, 1728]])"
      ]
     },
     "execution_count": 1,
     "metadata": {},
     "output_type": "execute_result"
    }
   ],
   "source": [
    "from sympy import *\n",
    "\n",
    "# 为测量飞机起飞表演，飞机的水平位置从 t=0.2 到 t=12 每秒测量一次，具体位置是：\n",
    "# 0, 8.8, 29.9, 62.0, 104.7,160, 222.0, 294.5, 380.4, 471.1, 571.7, 686.8, 809.2。  <<<<<<这里题干有误，第6个数为150\n",
    "# a,求这些数据的最小二乘立方曲线 y = β0 + β1 * t + β2 * t^2 + β3 * t^3\n",
    "# b,利用（a）的结果，估计当 t 等于 4.5 秒时飞机的水平速度。\n",
    "\n",
    "A = Matrix(13,4, lambda i,j: i**j)\n",
    "A"
   ]
  },
  {
   "cell_type": "code",
   "execution_count": 2,
   "metadata": {},
   "outputs": [
    {
     "data": {
      "text/latex": [
       "$\\displaystyle \\left[\\begin{matrix}0\\\\8.8\\\\29.9\\\\62.0\\\\104.7\\\\150\\\\222.0\\\\294.5\\\\380.4\\\\471.1\\\\571.7\\\\686.8\\\\809.2\\end{matrix}\\right]$"
      ],
      "text/plain": [
       "Matrix([\n",
       "[    0],\n",
       "[  8.8],\n",
       "[ 29.9],\n",
       "[ 62.0],\n",
       "[104.7],\n",
       "[  150],\n",
       "[222.0],\n",
       "[294.5],\n",
       "[380.4],\n",
       "[471.1],\n",
       "[571.7],\n",
       "[686.8],\n",
       "[809.2]])"
      ]
     },
     "execution_count": 2,
     "metadata": {},
     "output_type": "execute_result"
    }
   ],
   "source": [
    "B = Matrix([0, 8.8, 29.9, 62.0, 104.7, 150, 222.0, 294.5, 380.4, 471.1, 571.7, 686.8, 809.2])\n",
    "B"
   ]
  },
  {
   "cell_type": "code",
   "execution_count": 3,
   "metadata": {},
   "outputs": [
    {
     "data": {
      "text/latex": [
       "$\\displaystyle \\left[\\begin{matrix}0.144230769230774\\\\3.16309107559107\\\\5.80536963036963\\\\-0.0379662004662005\\end{matrix}\\right]$"
      ],
      "text/plain": [
       "Matrix([\n",
       "[  0.144230769230774],\n",
       "[   3.16309107559107],\n",
       "[   5.80536963036963],\n",
       "[-0.0379662004662005]])"
      ]
     },
     "execution_count": 3,
     "metadata": {},
     "output_type": "execute_result"
    }
   ],
   "source": [
    "X = A.pinv()*B\n",
    "X"
   ]
  },
  {
   "cell_type": "code",
   "execution_count": 4,
   "metadata": {},
   "outputs": [
    {
     "data": {
      "text/latex": [
       "$\\displaystyle \\left[\\begin{matrix}128.477205606893\\end{matrix}\\right]$"
      ],
      "text/plain": [
       "Matrix([[128.477205606893]])"
      ]
     },
     "execution_count": 4,
     "metadata": {},
     "output_type": "execute_result"
    }
   ],
   "source": [
    "# y = 0.1442 +  3.1631 * t +  5.8054 * t^2 - 0.0380 * t^3\n",
    "# t=4.5时：\n",
    "Matrix(1,4,lambda i,j: 4.5**j) * X"
   ]
  },
  {
   "cell_type": "code",
   "execution_count": 6,
   "metadata": {},
   "outputs": [
    {
     "data": {
      "image/png": "[encoded data removed]",
      "text/plain": [
       "<Figure size 432x288 with 1 Axes>"
      ]
     },
     "metadata": {
      "needs_background": "light"
     },
     "output_type": "display_data"
    }
   ],
   "source": [
    "# 绘图：\n",
    "import numpy as np\n",
    "import matplotlib.pyplot as plt\n",
    "\n",
    "x = np.linspace(0,12,50)\n",
    "y = 0.1442 +  3.1631 * x +  5.8054 * x**2 - 0.0380 * x**3\n",
    "plt.figure(1)\n",
    "plt.plot(x,y)\n",
    "\n",
    "ptszip = zip( np.linspace(0,12,13) , [x for [x] in B.tolist()] )\n",
    "pts = list(ptszip)\n",
    "# 将时间点和飞行距离组成坐标点。\n",
    "\n",
    "for i,j in pts:\n",
    "    plt.plot(i,j, 'rx')\n",
    "    # 'rx'表示红色×号点\n",
    "\n",
    "plt.show()"
   ]
  },
  {
   "cell_type": "code",
   "execution_count": null,
   "metadata": {},
   "outputs": [],
   "source": []
  },
  {
   "cell_type": "code",
   "execution_count": null,
   "metadata": {},
   "outputs": [],
   "source": []
  }
 ],
 "metadata": {
  "kernelspec": {
   "display_name": "Python 3",
   "language": "python",
   "name": "python3"
  },
  "language_info": {
   "codemirror_mode": {
    "name": "ipython",
    "version": 3
   },
   "file_extension": ".py",
   "mimetype": "text/x-python",
   "name": "python",
   "nbconvert_exporter": "python",
   "pygments_lexer": "ipython3",
   "version": "3.8.0"
  }
 },
 "nbformat": 4,
 "nbformat_minor": 4
}

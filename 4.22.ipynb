{
 "cells": [
  {
   "cell_type": "code",
   "execution_count": 1,
   "metadata": {},
   "outputs": [
    {
     "data": {
      "text/latex": [
       "$\\displaystyle \\left[\\begin{matrix}0.818730753077982 & 0.496585303791409\\\\0.802518797962478 & 0.463013068311228\\\\0.786627861066553 & 0.43171052342908\\\\0.755783741455725 & 0.3753110988514\\\\0.740818220681718 & 0.349937749111155\\end{matrix}\\right]$"
      ],
      "text/plain": [
       "Matrix([\n",
       "[0.818730753077982, 0.496585303791409],\n",
       "[0.802518797962478, 0.463013068311228],\n",
       "[0.786627861066553,  0.43171052342908],\n",
       "[0.755783741455725,   0.3753110988514],\n",
       "[0.740818220681718, 0.349937749111155]])"
      ]
     },
     "execution_count": 1,
     "metadata": {},
     "output_type": "execute_result"
    }
   ],
   "source": [
    "from sympy import *\n",
    "\n",
    "# 若放射性物质 A 和 B 分别具有衰变常数 0.02 和 0.07\n",
    "# 如果一种含这两种物质的混合物，在时刻t=0时，包含有 A 物质 MA克和 B 物质 MB克，那么在时刻 t，混合物的总量模型是：\n",
    "# y = MA * e^-0.02t + MB * e^-0.07t\n",
    "# 若初始含量 MA 和 MB未知，但在几个时刻记录的(ti,yi)数据为：(10,21.34),(11,20.68),(12,20.05), (14,18.87) 和(15,18.30)\n",
    "# 试给出能估计 MA 和 MB的线性模型。并找出基于此方程的最小二乘曲线。\n",
    "\n",
    "t = [10,11,12,14,15]\n",
    "A = Matrix(5,2, lambda i,j: E**(-0.02*t[i]) if j==0 else E**(-0.07*t[i]) )\n",
    "# 用lambda表达式构建矩阵A\n",
    "# e在sympy中表示为 sympy.E\n",
    "A"
   ]
  },
  {
   "cell_type": "code",
   "execution_count": 2,
   "metadata": {},
   "outputs": [
    {
     "data": {
      "text/latex": [
       "$\\displaystyle \\left[\\begin{matrix}21.34\\\\20.68\\\\20.05\\\\18.87\\\\18.3\\end{matrix}\\right]$"
      ],
      "text/plain": [
       "Matrix([\n",
       "[21.34],\n",
       "[20.68],\n",
       "[20.05],\n",
       "[18.87],\n",
       "[ 18.3]])"
      ]
     },
     "execution_count": 2,
     "metadata": {},
     "output_type": "execute_result"
    }
   ],
   "source": [
    "B= Matrix([21.34,20.68,20.05,18.87,18.30])\n",
    "B"
   ]
  },
  {
   "cell_type": "code",
   "execution_count": 3,
   "metadata": {},
   "outputs": [
    {
     "data": {
      "text/latex": [
       "$\\displaystyle \\left[\\begin{matrix}19.9410949460947\\\\10.1015141334343\\end{matrix}\\right]$"
      ],
      "text/plain": [
       "Matrix([\n",
       "[19.9410949460947],\n",
       "[10.1015141334343]])"
      ]
     },
     "execution_count": 3,
     "metadata": {},
     "output_type": "execute_result"
    }
   ],
   "source": [
    "X = A.pinv()*B\n",
    "X"
   ]
  },
  {
   "cell_type": "code",
   "execution_count": 5,
   "metadata": {},
   "outputs": [
    {
     "data": {
      "image/png": "[encoded data removed]",
      "text/plain": [
       "<Figure size 432x288 with 1 Axes>"
      ]
     },
     "metadata": {
      "needs_background": "light"
     },
     "output_type": "display_data"
    }
   ],
   "source": [
    "# y = 19.9411 * e^-0.02t + 10.1015 * e^-0.07t\n",
    "# 绘图：\n",
    "import numpy as np\n",
    "import matplotlib.pyplot as plt\n",
    "\n",
    "x = np.linspace(5,15,50)\n",
    "y = 19.9411 * E**(-0.02*x) + 10.1015 * E**(-0.07*x)\n",
    "plt.figure(1)\n",
    "plt.plot(x,y)\n",
    "\n",
    "ptszip = zip( t , B )\n",
    "pts = list(ptszip)\n",
    "\n",
    "for i,j in pts:\n",
    "    plt.plot(i,j, 'rx')\n",
    "    # 'rx'表示红色×号点\n",
    "\n",
    "plt.show()"
   ]
  },
  {
   "cell_type": "code",
   "execution_count": null,
   "metadata": {},
   "outputs": [],
   "source": []
  }
 ],
 "metadata": {
  "kernelspec": {
   "display_name": "Python 3",
   "language": "python",
   "name": "python3"
  },
  "language_info": {
   "codemirror_mode": {
    "name": "ipython",
    "version": 3
   },
   "file_extension": ".py",
   "mimetype": "text/x-python",
   "name": "python",
   "nbconvert_exporter": "python",
   "pygments_lexer": "ipython3",
   "version": "3.8.0"
  }
 },
 "nbformat": 4,
 "nbformat_minor": 4
}

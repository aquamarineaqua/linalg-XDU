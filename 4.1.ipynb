{
 "cells": [
  {
   "cell_type": "code",
   "execution_count": 1,
   "metadata": {},
   "outputs": [
    {
     "data": {
      "text/latex": [
       "$\\displaystyle \\left[\\begin{matrix}1\\\\0\\\\1\\end{matrix}\\right]$"
      ],
      "text/plain": [
       "Matrix([\n",
       "[1],\n",
       "[0],\n",
       "[1]])"
      ]
     },
     "execution_count": 1,
     "metadata": {},
     "output_type": "execute_result"
    }
   ],
   "source": [
    "from sympy import Matrix\n",
    "from sympy import *\n",
    "\n",
    "# 题：用空间笛卡尔坐标概念，找出两个最简单的单位向量 u 和 v，它们与向量 a(1,0,1)垂直并相互正交。\n",
    "# 解：设 u=[u1,u2,u3], v=[v1,v2,v3],则与 a 正交的条件为u'*a=0, v'*a=0 >>>> u1+u3=0, v1+v3=0, \n",
    "# norm(v)=1, norm(u)=1, u1v1+u2v2+u3v3=0, 可由笛卡尔坐标内图形取 u=[-0.707,0,0.707],v=[0,1,0]\n",
    "\n",
    "u1,u2,u3,v1,v2,v3 = symbols('u1 u2 u3 v1 v2 v3',real=True)\n",
    "# 注意这里定义为实数‘real=True’，否则后面计算会报错误（solving Abs(...) when the argument is not real or imaginary）\n",
    "a = Matrix([1,0,1])\n",
    "a"
   ]
  },
  {
   "cell_type": "code",
   "execution_count": 2,
   "metadata": {},
   "outputs": [
    {
     "data": {
      "text/latex": [
       "$\\displaystyle \\left[\\begin{matrix}u_{1}\\\\u_{2}\\\\u_{3}\\end{matrix}\\right]$"
      ],
      "text/plain": [
       "Matrix([\n",
       "[u1],\n",
       "[u2],\n",
       "[u3]])"
      ]
     },
     "execution_count": 2,
     "metadata": {},
     "output_type": "execute_result"
    }
   ],
   "source": [
    "u=Matrix([u1,u2,u3])\n",
    "v=Matrix([v1,v2,v3])\n",
    "u"
   ]
  },
  {
   "cell_type": "code",
   "execution_count": 3,
   "metadata": {},
   "outputs": [
    {
     "data": {
      "text/latex": [
       "$\\displaystyle \\left[\\begin{matrix}v_{1}\\\\v_{2}\\\\v_{3}\\end{matrix}\\right]$"
      ],
      "text/plain": [
       "Matrix([\n",
       "[v1],\n",
       "[v2],\n",
       "[v3]])"
      ]
     },
     "execution_count": 3,
     "metadata": {},
     "output_type": "execute_result"
    }
   ],
   "source": [
    "v"
   ]
  },
  {
   "cell_type": "code",
   "execution_count": 4,
   "metadata": {},
   "outputs": [
    {
     "data": {
      "text/latex": [
       "$\\displaystyle u_{1} + u_{3}$"
      ],
      "text/plain": [
       "u1 + u3"
      ]
     },
     "execution_count": 4,
     "metadata": {},
     "output_type": "execute_result"
    }
   ],
   "source": [
    "r1 = u.dot(a)\n",
    "# 点积表示方法\n",
    "r2 = v.dot(a)\n",
    "r3 = u.norm()-1\n",
    "# 向量模长\n",
    "r4 = v.norm()-1\n",
    "r5 = u1*v1+u2*v2+u3*v3\n",
    "r6 = v2-1\n",
    "# 这里再限定一个条件，将v向量中的v2=1，使v=[0,1,0]，否则解无穷多"
   ]
  },
  {
   "cell_type": "code",
   "execution_count": 7,
   "metadata": {},
   "outputs": [
    {
     "data": {
      "text/plain": [
       "[(-sqrt(2)/2, 0, sqrt(2)/2, 0, 1, 0), (sqrt(2)/2, 0, -sqrt(2)/2, 0, 1, 0)]"
      ]
     },
     "execution_count": 7,
     "metadata": {},
     "output_type": "execute_result"
    }
   ],
   "source": [
    "list1 = solve([r1,r2,r3,r4,r5,r6],(u1,u2,u3,v1,v2,v3))\n",
    "list1"
   ]
  },
  {
   "cell_type": "code",
   "execution_count": 13,
   "metadata": {},
   "outputs": [
    {
     "data": {
      "text/plain": [
       "[-0.7071, 0, 0.7071, 0, 1, 0]"
      ]
     },
     "execution_count": 13,
     "metadata": {},
     "output_type": "execute_result"
    }
   ],
   "source": [
    "# 解方程得到两组解，取其中一组解，得到u和v两组向量：u=[-0.7071,0,0.7071],v=[0,1,0]\n",
    "lista = [round(x,4) for x in list1[0]]\n",
    "lista"
   ]
  },
  {
   "cell_type": "code",
   "execution_count": null,
   "metadata": {},
   "outputs": [],
   "source": []
  }
 ],
 "metadata": {
  "kernelspec": {
   "display_name": "Python 3",
   "language": "python",
   "name": "python3"
  },
  "language_info": {
   "codemirror_mode": {
    "name": "ipython",
    "version": 3
   },
   "file_extension": ".py",
   "mimetype": "text/x-python",
   "name": "python",
   "nbconvert_exporter": "python",
   "pygments_lexer": "ipython3",
   "version": "3.8.0"
  }
 },
 "nbformat": 4,
 "nbformat_minor": 4
}

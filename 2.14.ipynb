{
 "cells": [
  {
   "cell_type": "code",
   "execution_count": 1,
   "metadata": {},
   "outputs": [],
   "source": [
    "from sympy import Matrix\n",
    "from sympy import *\n",
    "\n",
    "R1,R2,R3 = symbols('R1 R2 R3')\n",
    "\n",
    "# =========================（a）=========================\n",
    "# 算得矩阵（matlab表示）为：A1=[1,0;-1/R1,1],A2=[1,-R2;0,1],A3=[1,0;-1/R3,1],A=A3*A2*A1"
   ]
  },
  {
   "cell_type": "code",
   "execution_count": 2,
   "metadata": {},
   "outputs": [
    {
     "data": {
      "text/latex": [
       "$\\displaystyle \\left[\\begin{matrix}1 & 0\\\\- \\frac{1}{R_{1}} & 1\\end{matrix}\\right]$"
      ],
      "text/plain": [
       "Matrix([\n",
       "[    1, 0],\n",
       "[-1/R1, 1]])"
      ]
     },
     "execution_count": 2,
     "metadata": {},
     "output_type": "execute_result"
    }
   ],
   "source": [
    "A1 = Matrix([[1,0],[-1/R1,1]])\n",
    "A1"
   ]
  },
  {
   "cell_type": "code",
   "execution_count": 3,
   "metadata": {},
   "outputs": [
    {
     "data": {
      "text/latex": [
       "$\\displaystyle \\left[\\begin{matrix}1 & - R_{2}\\\\0 & 1\\end{matrix}\\right]$"
      ],
      "text/plain": [
       "Matrix([\n",
       "[1, -R2],\n",
       "[0,   1]])"
      ]
     },
     "execution_count": 3,
     "metadata": {},
     "output_type": "execute_result"
    }
   ],
   "source": [
    "A2 = Matrix([[1,-R2],[0,1]])\n",
    "A2"
   ]
  },
  {
   "cell_type": "code",
   "execution_count": 4,
   "metadata": {},
   "outputs": [
    {
     "data": {
      "text/latex": [
       "$\\displaystyle \\left[\\begin{matrix}1 & 0\\\\- \\frac{1}{R_{3}} & 1\\end{matrix}\\right]$"
      ],
      "text/plain": [
       "Matrix([\n",
       "[    1, 0],\n",
       "[-1/R3, 1]])"
      ]
     },
     "execution_count": 4,
     "metadata": {},
     "output_type": "execute_result"
    }
   ],
   "source": [
    "A3 = Matrix([[1,0],[-1/R3,1]])\n",
    "A3"
   ]
  },
  {
   "cell_type": "code",
   "execution_count": 6,
   "metadata": {},
   "outputs": [
    {
     "data": {
      "text/latex": [
       "$\\displaystyle \\left[\\begin{matrix}1 + \\frac{R_{2}}{R_{1}} & - R_{2}\\\\- \\frac{1}{R_{3}} - \\frac{\\frac{R_{2}}{R_{3}} + 1}{R_{1}} & \\frac{R_{2}}{R_{3}} + 1\\end{matrix}\\right]$"
      ],
      "text/plain": [
       "Matrix([\n",
       "[             1 + R2/R1,       -R2],\n",
       "[-1/R3 - (R2/R3 + 1)/R1, R2/R3 + 1]])"
      ]
     },
     "execution_count": 6,
     "metadata": {},
     "output_type": "execute_result"
    }
   ],
   "source": [
    "A = A3*A2*A1\n",
    "A\n",
    "# 求得传输函数A"
   ]
  },
  {
   "cell_type": "code",
   "execution_count": 19,
   "metadata": {},
   "outputs": [
    {
     "data": {
      "text/latex": [
       "$\\displaystyle -0.333333333333333 + \\frac{R_{2}}{R_{1}}$"
      ],
      "text/plain": [
       "-0.333333333333333 + R2/R1"
      ]
     },
     "execution_count": 19,
     "metadata": {},
     "output_type": "execute_result"
    }
   ],
   "source": [
    "\n",
    "\n",
    "# =========================（b）=========================\n",
    "# 将A的实际矩阵br  Matrix([[4/3, -12],[-1/4,3]])，与之前的矩阵A中的元素一一对应起来。\n",
    "br=Matrix([4/3, -12,-1/4,3])\n",
    "\n",
    "# 对应起来后，用r1、r2、r3写成与R1, R2, R3相关表达式\n",
    "r1 = A[0,0]-br[0]\n",
    "r2 = A[0,1]-br[1]\n",
    "r3 = A[1,0]-br[2]\n",
    "r4 = A[1,1]-br[3]\n",
    "r1"
   ]
  },
  {
   "cell_type": "code",
   "execution_count": 20,
   "metadata": {},
   "outputs": [
    {
     "data": {
      "text/plain": [
       "[(36.0000000000000, 12.0000000000000, 6.00000000000000)]"
      ]
     },
     "execution_count": 20,
     "metadata": {},
     "output_type": "execute_result"
    }
   ],
   "source": [
    "solve([r1, r2, r3, r4], (R1, R2, R3))\n",
    "# 使用solve函数解方程，求得R1, R2, R3"
   ]
  },
  {
   "cell_type": "code",
   "execution_count": null,
   "metadata": {},
   "outputs": [],
   "source": []
  }
 ],
 "metadata": {
  "kernelspec": {
   "display_name": "Python 3",
   "language": "python",
   "name": "python3"
  },
  "language_info": {
   "codemirror_mode": {
    "name": "ipython",
    "version": 3
   },
   "file_extension": ".py",
   "mimetype": "text/x-python",
   "name": "python",
   "nbconvert_exporter": "python",
   "pygments_lexer": "ipython3",
   "version": "3.8.0"
  }
 },
 "nbformat": 4,
 "nbformat_minor": 4
}

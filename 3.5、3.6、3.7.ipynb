{
 "cells": [
  {
   "cell_type": "code",
   "execution_count": 5,
   "metadata": {},
   "outputs": [
    {
     "data": {
      "text/latex": [
       "$\\displaystyle 1.5$"
      ],
      "text/plain": [
       "1.50000000000000"
      ]
     },
     "execution_count": 5,
     "metadata": {},
     "output_type": "execute_result"
    }
   ],
   "source": [
    "from sympy import Matrix\n",
    "from sympy import *\n",
    "\n",
    "# =============3.5==============\n",
    "# =============(a)==============\n",
    "# 题目： 已知 A(1,2), B(3,3),C (2,1), 画出三角形 ABC 图形并求其面积。\n",
    "# 解析：将A设为原点，B为(3-1,3-2)，C为（2-1,1-2）,ABC面积为求B和C点坐标组成矩阵的二阶行列式的1/2\n",
    "# Matlab实现：S=0.5*abs(det([3-1,2-1;3-2,1-2])) = 1.5\n",
    "\n",
    "S1 = abs(Matrix([[3-1,2-1],[3-2,1-2]]).det())*0.5\n",
    "S1"
   ]
  },
  {
   "cell_type": "code",
   "execution_count": 7,
   "metadata": {},
   "outputs": [
    {
     "data": {
      "text/latex": [
       "$\\displaystyle 12.0$"
      ],
      "text/plain": [
       "12.0000000000000"
      ]
     },
     "execution_count": 7,
     "metadata": {},
     "output_type": "execute_result"
    }
   ],
   "source": [
    "# =============(b)==============\n",
    "# 题目： 已知 A(0,0), B(1,4), C (5,3), D(4,1), 画出四边形 ABCD 图形并求其面积。\n",
    "# 解析：ABC+ACD分别求面积\n",
    "# Matlab实现：S=0.5*(abs(det([1,5;4,3]))+abs(det([5,4;3,1]))), 结果为 S=12\n",
    "\n",
    "S2 = abs(Matrix([[1,5],[4,3]]).det())*0.5 + abs(Matrix([[5,4],[3,1]]).det())*0.5\n",
    "S2"
   ]
  },
  {
   "cell_type": "code",
   "execution_count": 8,
   "metadata": {},
   "outputs": [
    {
     "data": {
      "text/latex": [
       "$\\displaystyle 30$"
      ],
      "text/plain": [
       "30"
      ]
     },
     "execution_count": 8,
     "metadata": {},
     "output_type": "execute_result"
    }
   ],
   "source": [
    "# =============3.6==============\n",
    "# 题目： 求一个顶点在原点，相邻顶点在(1,0,2),(1,2,4),(7,1,0)的平行六面体的体积。\n",
    "# Matlab实现：V=abs(det([1,1,7;0,2,1;2,4,0])), 体积为 30\n",
    "\n",
    "V = abs(Matrix([[1,1,7],[0,2,1],[2,4,0]]).det())\n",
    "V"
   ]
  },
  {
   "cell_type": "code",
   "execution_count": 12,
   "metadata": {},
   "outputs": [
    {
     "data": {
      "text/latex": [
       "$\\displaystyle 100$"
      ],
      "text/plain": [
       "100"
      ]
     },
     "execution_count": 12,
     "metadata": {},
     "output_type": "execute_result"
    }
   ],
   "source": [
    "# =============3.7==============\n",
    "# 题目： 由A=[4,1;2,3],求 A^2 和 A^-1 及 A-λI 的行列式，λ 取哪两个数时会导致 |A-λI|=0。\n",
    "# Matlab实现：A=[4,1;2,3],D1=det(A^2),D2=det(inv(A)), syms lamda, D3=det(A-eye(2)*lamda)\n",
    "# 答案：D1=100, D2=0.1, D3=lamda^2 - 7*lamda + 10，令 D3=0，得 lamda=2 和 5 两个数。\n",
    "\n",
    "A = Matrix([[4,1],[2,3]])\n",
    "D1 = (A**2).det()\n",
    "D1"
   ]
  },
  {
   "cell_type": "code",
   "execution_count": 15,
   "metadata": {},
   "outputs": [
    {
     "data": {
      "text/latex": [
       "$\\displaystyle \\frac{1}{10}$"
      ],
      "text/plain": [
       "1/10"
      ]
     },
     "execution_count": 15,
     "metadata": {},
     "output_type": "execute_result"
    }
   ],
   "source": [
    "D2 = (A**-1).det()\n",
    "D2\n",
    "# 或 D2 = (A.inv()).det()"
   ]
  },
  {
   "cell_type": "code",
   "execution_count": 16,
   "metadata": {},
   "outputs": [
    {
     "data": {
      "text/latex": [
       "$\\displaystyle \\lambda^{2} - 7 \\lambda + 10$"
      ],
      "text/plain": [
       "lamda**2 - 7*lamda + 10"
      ]
     },
     "execution_count": 16,
     "metadata": {},
     "output_type": "execute_result"
    }
   ],
   "source": [
    "lamda = symbols('lamda')\n",
    "D3 = (A - lamda*eye(2)).det()\n",
    "D3"
   ]
  },
  {
   "cell_type": "code",
   "execution_count": 19,
   "metadata": {},
   "outputs": [
    {
     "data": {
      "text/plain": [
       "[2, 5]"
      ]
     },
     "execution_count": 19,
     "metadata": {},
     "output_type": "execute_result"
    }
   ],
   "source": [
    "solve(D3,lamda)"
   ]
  },
  {
   "cell_type": "code",
   "execution_count": null,
   "metadata": {},
   "outputs": [],
   "source": []
  }
 ],
 "metadata": {
  "kernelspec": {
   "display_name": "Python 3",
   "language": "python",
   "name": "python3"
  },
  "language_info": {
   "codemirror_mode": {
    "name": "ipython",
    "version": 3
   },
   "file_extension": ".py",
   "mimetype": "text/x-python",
   "name": "python",
   "nbconvert_exporter": "python",
   "pygments_lexer": "ipython3",
   "version": "3.8.0"
  }
 },
 "nbformat": 4,
 "nbformat_minor": 4
}

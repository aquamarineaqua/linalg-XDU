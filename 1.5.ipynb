{
 "cells": [
  {
   "cell_type": "code",
   "execution_count": 1,
   "metadata": {},
   "outputs": [
    {
     "data": {
      "text/plain": [
       "array([[ 3, -2, -5,  1],\n",
       "       [ 2, -3,  1,  5],\n",
       "       [ 1,  2,  0, -4],\n",
       "       [ 1, -1, -4,  9]])"
      ]
     },
     "execution_count": 1,
     "metadata": {},
     "output_type": "execute_result"
    }
   ],
   "source": [
    "# ===============（a）===================\n",
    "# 解下列方程组\n",
    "import numpy as np\n",
    "a1 = np.array(\n",
    "[\n",
    "    [3, -2, -5, 1],\n",
    "    [2, -3, 1, 5],\n",
    "    [1, 2, 0, -4],\n",
    "    [1, -1, -4, 9]\n",
    "])\n",
    "b1 = np.array([\n",
    "    [3],\n",
    "    [-3],\n",
    "    [-3],\n",
    "    [22]\n",
    "])\n",
    "a1"
   ]
  },
  {
   "cell_type": "code",
   "execution_count": 2,
   "metadata": {},
   "outputs": [
    {
     "data": {
      "text/plain": [
       "array([[ 3],\n",
       "       [-3],\n",
       "       [-3],\n",
       "       [22]])"
      ]
     },
     "execution_count": 2,
     "metadata": {},
     "output_type": "execute_result"
    }
   ],
   "source": [
    "b1"
   ]
  },
  {
   "cell_type": "code",
   "execution_count": 3,
   "metadata": {},
   "outputs": [
    {
     "data": {
      "text/plain": [
       "array([[-1.],\n",
       "       [ 3.],\n",
       "       [-2.],\n",
       "       [ 2.]])"
      ]
     },
     "execution_count": 3,
     "metadata": {},
     "output_type": "execute_result"
    }
   ],
   "source": [
    "x1 = np.linalg.solve(a1,b1)\n",
    "x1\n",
    "# 这里使用了numpy中linalg模块求解线性方程组的解：np.linalg.solve(A,b)\n",
    "# 也可以使用sympy包的方法，以后将会以sympy方法为主。"
   ]
  },
  {
   "cell_type": "code",
   "execution_count": 4,
   "metadata": {},
   "outputs": [
    {
     "data": {
      "text/plain": [
       "array([[0.],\n",
       "       [0.],\n",
       "       [0.],\n",
       "       [0.]])"
      ]
     },
     "execution_count": 4,
     "metadata": {},
     "output_type": "execute_result"
    }
   ],
   "source": [
    "# ===============（b）===================\n",
    "# 解下列方程组\n",
    "a2 = np.array(\n",
    "[\n",
    "    [2, -2, 0, 1, 3],\n",
    "    [2, 3, 1, -3, 6],\n",
    "    [3, 4, -1, 2, 0],\n",
    "    [1, 3, 1, -1, -2]\n",
    "])\n",
    "b2 = np.zeros((4,1))\n",
    "b2"
   ]
  },
  {
   "cell_type": "code",
   "execution_count": 5,
   "metadata": {},
   "outputs": [
    {
     "data": {
      "text/plain": [
       "array([[ 2, -2,  0,  1,  3],\n",
       "       [ 2,  3,  1, -3,  6],\n",
       "       [ 3,  4, -1,  2,  0],\n",
       "       [ 1,  3,  1, -1, -2]])"
      ]
     },
     "execution_count": 5,
     "metadata": {},
     "output_type": "execute_result"
    }
   ],
   "source": [
    "a2"
   ]
  },
  {
   "cell_type": "code",
   "execution_count": 8,
   "metadata": {},
   "outputs": [
    {
     "data": {
      "text/latex": [
       "$\\displaystyle \\left[\\begin{matrix}2 & -2 & 0 & 1 & 3\\\\2 & 3 & 1 & -3 & 6\\\\3 & 4 & -1 & 2 & 0\\\\1 & 3 & 1 & -1 & -2\\end{matrix}\\right]$"
      ],
      "text/plain": [
       "Matrix([\n",
       "[2, -2,  0,  1,  3],\n",
       "[2,  3,  1, -3,  6],\n",
       "[3,  4, -1,  2,  0],\n",
       "[1,  3,  1, -1, -2]])"
      ]
     },
     "execution_count": 8,
     "metadata": {},
     "output_type": "execute_result"
    }
   ],
   "source": [
    "from sympy import Matrix\n",
    "mat2_a2 = Matrix(a2)\n",
    "mat2_a2"
   ]
  },
  {
   "cell_type": "code",
   "execution_count": 10,
   "metadata": {},
   "outputs": [
    {
     "data": {
      "text/latex": [
       "$\\displaystyle \\left[\\begin{matrix}0.0\\\\0.0\\\\0.0\\\\0.0\\end{matrix}\\right]$"
      ],
      "text/plain": [
       "Matrix([\n",
       "[0.0],\n",
       "[0.0],\n",
       "[0.0],\n",
       "[0.0]])"
      ]
     },
     "execution_count": 10,
     "metadata": {},
     "output_type": "execute_result"
    }
   ],
   "source": [
    "mat2_b2 = Matrix(b2)\n",
    "mat2_b2"
   ]
  },
  {
   "cell_type": "code",
   "execution_count": 21,
   "metadata": {},
   "outputs": [
    {
     "data": {
      "text/latex": [
       "$\\displaystyle \\left[\\begin{matrix}2 & -2 & 0 & 1 & 3 & 0.0\\\\2 & 3 & 1 & -3 & 6 & 0.0\\\\3 & 4 & -1 & 2 & 0 & 0.0\\\\1 & 3 & 1 & -1 & -2 & 0.0\\end{matrix}\\right]$"
      ],
      "text/plain": [
       "Matrix([\n",
       "[2, -2,  0,  1,  3, 0.0],\n",
       "[2,  3,  1, -3,  6, 0.0],\n",
       "[3,  4, -1,  2,  0, 0.0],\n",
       "[1,  3,  1, -1, -2, 0.0]])"
      ]
     },
     "execution_count": 21,
     "metadata": {},
     "output_type": "execute_result"
    }
   ],
   "source": [
    "mat2_aug = Matrix([[mat2_a2, mat2_b2]])\n",
    "mat2_aug\n",
    "# 生成增广矩阵"
   ]
  },
  {
   "cell_type": "code",
   "execution_count": 23,
   "metadata": {},
   "outputs": [
    {
     "data": {
      "text/latex": [
       "$\\displaystyle \\left[\\begin{matrix}1 & 0 & 0 & 0 & 2 & 0\\\\0 & 1 & 0 & 0 & -1 & 0\\\\0 & 0 & 1 & 0 & -4 & 0\\\\0 & 0 & 0 & 1 & -3 & 0\\end{matrix}\\right]$"
      ],
      "text/plain": [
       "Matrix([\n",
       "[1, 0, 0, 0,  2, 0],\n",
       "[0, 1, 0, 0, -1, 0],\n",
       "[0, 0, 1, 0, -4, 0],\n",
       "[0, 0, 0, 1, -3, 0]])"
      ]
     },
     "execution_count": 23,
     "metadata": {},
     "output_type": "execute_result"
    }
   ],
   "source": [
    "mat2_simp = mat2_aug.rref()\n",
    "mat2_simp[0]"
   ]
  },
  {
   "cell_type": "code",
   "execution_count": 26,
   "metadata": {},
   "outputs": [
    {
     "data": {
      "text/latex": [
       "$\\displaystyle \\left[\\begin{matrix}2\\\\-1\\\\-4\\\\-3\\end{matrix}\\right]$"
      ],
      "text/plain": [
       "Matrix([\n",
       "[ 2],\n",
       "[-1],\n",
       "[-4],\n",
       "[-3]])"
      ]
     },
     "execution_count": 26,
     "metadata": {},
     "output_type": "execute_result"
    }
   ],
   "source": [
    "mat2_simp[0][:,4]\n",
    "# 方程组为欠定方程组，当x5=1时，第五列为方程组x1~x4的解"
   ]
  },
  {
   "cell_type": "code",
   "execution_count": 27,
   "metadata": {},
   "outputs": [
    {
     "data": {
      "text/latex": [
       "$\\displaystyle \\left[\\begin{matrix}1 & 1 & -6 & -4\\\\3 & -1 & -6 & -4\\\\2 & 3 & 9 & 2\\\\3 & 2 & 3 & 8\\end{matrix}\\right]$"
      ],
      "text/plain": [
       "Matrix([\n",
       "[1,  1, -6, -4],\n",
       "[3, -1, -6, -4],\n",
       "[2,  3,  9,  2],\n",
       "[3,  2,  3,  8]])"
      ]
     },
     "execution_count": 27,
     "metadata": {},
     "output_type": "execute_result"
    }
   ],
   "source": [
    "# ===============（c）===================\n",
    "# 解下列方程组\n",
    "a3 = Matrix([[1, 1, -6, -4],\n",
    "            [3, -1, -6, -4],\n",
    "            [2, 3, 9, 2],\n",
    "            [3, 2, 3, 8]])\n",
    "a3"
   ]
  },
  {
   "cell_type": "code",
   "execution_count": 39,
   "metadata": {},
   "outputs": [
    {
     "data": {
      "text/latex": [
       "$\\displaystyle \\left[\\begin{matrix}6\\\\2\\\\6\\\\-7\\end{matrix}\\right]$"
      ],
      "text/plain": [
       "Matrix([\n",
       "[ 6],\n",
       "[ 2],\n",
       "[ 6],\n",
       "[-7]])"
      ]
     },
     "execution_count": 39,
     "metadata": {},
     "output_type": "execute_result"
    }
   ],
   "source": [
    "b3 = Matrix([[6],[2],[6],[-7]])\n",
    "b3"
   ]
  },
  {
   "cell_type": "code",
   "execution_count": 40,
   "metadata": {},
   "outputs": [
    {
     "data": {
      "text/latex": [
       "$\\displaystyle \\left[\\begin{matrix}1 & 0 & 0 & 0 & 0\\\\0 & 1 & 0 & 0 & 2\\\\0 & 0 & 1 & 0 & \\frac{1}{3}\\\\0 & 0 & 0 & 1 & - \\frac{3}{2}\\end{matrix}\\right]$"
      ],
      "text/plain": [
       "Matrix([\n",
       "[1, 0, 0, 0,    0],\n",
       "[0, 1, 0, 0,    2],\n",
       "[0, 0, 1, 0,  1/3],\n",
       "[0, 0, 0, 1, -3/2]])"
      ]
     },
     "execution_count": 40,
     "metadata": {},
     "output_type": "execute_result"
    }
   ],
   "source": [
    "mat3_aug = Matrix([[a3,b3]])\n",
    "mat3_simp = mat3_aug.rref()\n",
    "mat3_simp[0]"
   ]
  },
  {
   "cell_type": "code",
   "execution_count": 41,
   "metadata": {},
   "outputs": [
    {
     "data": {
      "text/latex": [
       "$\\displaystyle \\left[\\begin{matrix}0\\\\2\\\\\\frac{1}{3}\\\\- \\frac{3}{2}\\end{matrix}\\right]$"
      ],
      "text/plain": [
       "Matrix([\n",
       "[   0],\n",
       "[   2],\n",
       "[ 1/3],\n",
       "[-3/2]])"
      ]
     },
     "execution_count": 41,
     "metadata": {},
     "output_type": "execute_result"
    }
   ],
   "source": [
    "mat3_simp[0][:,4]"
   ]
  },
  {
   "cell_type": "code",
   "execution_count": null,
   "metadata": {},
   "outputs": [],
   "source": []
  }
 ],
 "metadata": {
  "kernelspec": {
   "display_name": "Python 3",
   "language": "python",
   "name": "python3"
  },
  "language_info": {
   "codemirror_mode": {
    "name": "ipython",
    "version": 3
   },
   "file_extension": ".py",
   "mimetype": "text/x-python",
   "name": "python",
   "nbconvert_exporter": "python",
   "pygments_lexer": "ipython3",
   "version": "3.8.0"
  }
 },
 "nbformat": 4,
 "nbformat_minor": 4
}

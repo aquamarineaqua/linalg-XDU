{
 "cells": [
  {
   "cell_type": "code",
   "execution_count": 5,
   "metadata": {},
   "outputs": [
    {
     "data": {
      "text/latex": [
       "$\\displaystyle \\left[\\begin{matrix}0.54030230586814 & 0.841470984807897\\\\-0.416146836547142 & 0.909297426825682\\\\-0.989992496600445 & 0.141120008059867\\end{matrix}\\right]$"
      ],
      "text/plain": [
       "Matrix([\n",
       "[  0.54030230586814, 0.841470984807897],\n",
       "[-0.416146836547142, 0.909297426825682],\n",
       "[-0.989992496600445, 0.141120008059867]])"
      ]
     },
     "execution_count": 5,
     "metadata": {},
     "output_type": "execute_result"
    }
   ],
   "source": [
    "from sympy import *\n",
    "\n",
    "# 某一个实验得到的数据为 (1,7.4)，(2,5.9)，(3,-0.9)，描述有下列形式的函数 V 拟合来这些数据产生的最小二乘模型。\n",
    "# 函数 V :  y = a * cos(x) + b * sin(x)\n",
    "\n",
    "A = Matrix([[cos(1),sin(1)],[cos(2),sin(2)],[cos(3),sin(3)]])\n",
    "A = A.evalf()\n",
    "A"
   ]
  },
  {
   "cell_type": "code",
   "execution_count": 6,
   "metadata": {},
   "outputs": [
    {
     "data": {
      "text/latex": [
       "$\\displaystyle \\left[\\begin{matrix}7.4\\\\5.9\\\\-0.9\\end{matrix}\\right]$"
      ],
      "text/plain": [
       "Matrix([\n",
       "[ 7.4],\n",
       "[ 5.9],\n",
       "[-0.9]])"
      ]
     },
     "execution_count": 6,
     "metadata": {},
     "output_type": "execute_result"
    }
   ],
   "source": [
    "B = Matrix([7.4,5.9,-0.9])\n",
    "B"
   ]
  },
  {
   "cell_type": "code",
   "execution_count": 8,
   "metadata": {},
   "outputs": [
    {
     "data": {
      "text/latex": [
       "$\\displaystyle \\left[\\begin{matrix}2.01157822194718\\\\7.45582211713525\\end{matrix}\\right]$"
      ],
      "text/plain": [
       "Matrix([\n",
       "[2.01157822194718],\n",
       "[7.45582211713525]])"
      ]
     },
     "execution_count": 8,
     "metadata": {},
     "output_type": "execute_result"
    }
   ],
   "source": [
    "X = A.pinv()*B\n",
    "X"
   ]
  },
  {
   "cell_type": "code",
   "execution_count": 10,
   "metadata": {},
   "outputs": [
    {
     "data": {
      "text/latex": [
       "$\\displaystyle 0.0699137159149035$"
      ],
      "text/plain": [
       "0.0699137159149035"
      ]
     },
     "execution_count": 10,
     "metadata": {},
     "output_type": "execute_result"
    }
   ],
   "source": [
    "e = A * X - B\n",
    "norme = e.norm()\n",
    "norme"
   ]
  },
  {
   "cell_type": "code",
   "execution_count": 33,
   "metadata": {},
   "outputs": [
    {
     "data": {
      "image/png": "[encoded data removed]",
      "text/plain": [
       "<Figure size 432x288 with 1 Axes>"
      ]
     },
     "metadata": {
      "needs_background": "light"
     },
     "output_type": "display_data"
    }
   ],
   "source": [
    "# 函数：  y = 2.0116 * cos(x) + 7.4558 * sin(x)\n",
    "# 绘图，(1,7.4)，(2,5.9)，(3,-0.9)，y = 2.0116 * cos(x) + 7.4558 * sin(x)\n",
    "import numpy as np\n",
    "import matplotlib.pyplot as plt\n",
    "\n",
    "x = np.linspace(0,4,50)\n",
    "\n",
    "t = symbols('t')\n",
    "fV = lambdify(t, (2.0116 * cos(t) + 7.4558 * sin(t)))\n",
    "y = fV(x)\n",
    "# 注意：直接 y = 2.0116 * cos(x) + 7.4558 * sin(x) 会报错误AttributeError\n",
    "# 因为通过应用SymPy函数（如上面的cos、sin）计算数组的值会导致AttributeError，解决方法为通过lambdify方法构建函数，里面的形参也需要定义一下\n",
    "# 构建好后，便可以传入列表或元组等有序迭代器了\n",
    "\n",
    "plt.figure()\n",
    "plt.plot(x,y)\n",
    "plt.plot(1,7.4, 'bo')\n",
    "plt.plot(2,5.9, 'bo')\n",
    "plt.plot(3,-0.9, 'bo')\n",
    "\n",
    "plt.show()"
   ]
  },
  {
   "cell_type": "code",
   "execution_count": null,
   "metadata": {},
   "outputs": [],
   "source": []
  }
 ],
 "metadata": {
  "kernelspec": {
   "display_name": "Python 3",
   "language": "python",
   "name": "python3"
  },
  "language_info": {
   "codemirror_mode": {
    "name": "ipython",
    "version": 3
   },
   "file_extension": ".py",
   "mimetype": "text/x-python",
   "name": "python",
   "nbconvert_exporter": "python",
   "pygments_lexer": "ipython3",
   "version": "3.8.0"
  }
 },
 "nbformat": 4,
 "nbformat_minor": 4
}

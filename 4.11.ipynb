{
 "cells": [
  {
   "cell_type": "code",
   "execution_count": 3,
   "metadata": {},
   "outputs": [
    {
     "data": {
      "text/latex": [
       "$\\displaystyle \\left[\\begin{matrix}1 & 0 & 3 & 0 & - \\frac{1}{2}\\\\0 & 1 & 1 & 0 & 1\\\\0 & 0 & 0 & 1 & \\frac{5}{2}\\\\0 & 0 & 0 & 0 & 0\\end{matrix}\\right]$"
      ],
      "text/plain": [
       "Matrix([\n",
       "[1, 0, 3, 0, -1/2],\n",
       "[0, 1, 1, 0,    1],\n",
       "[0, 0, 0, 1,  5/2],\n",
       "[0, 0, 0, 0,    0]])"
      ]
     },
     "execution_count": 3,
     "metadata": {},
     "output_type": "execute_result"
    }
   ],
   "source": [
    "from sympy import *\n",
    "\n",
    "# =======4.11========\n",
    "# 求a1=[1;-1;2;4], a2=[0;3;1;2], a3=[3;0;7;14], a4=[1;-1;2;0], a5=[2;1;5;0] 的线性无关组，并将其余向量用这组基向量表示。\n",
    "\n",
    "a1 = Matrix([1,-1,2,4])\n",
    "a2 = Matrix([0,3,1,2])\n",
    "a3 = Matrix([3,0,7,14])\n",
    "a4 = Matrix([1,-1,2,0])\n",
    "a5 = Matrix([2,1,5,0])\n",
    "U0 = Matrix([[a1,a2,a3,a4,a5]]).rref()[0]\n",
    "U0"
   ]
  },
  {
   "cell_type": "code",
   "execution_count": 4,
   "metadata": {},
   "outputs": [
    {
     "data": {
      "text/latex": [
       "$\\displaystyle \\left[\\begin{matrix}1 & 0 & 0 & 3\\\\0 & 1 & 0 & 1\\\\0 & 0 & 1 & 0\\\\0 & 0 & 0 & 0\\end{matrix}\\right]$"
      ],
      "text/plain": [
       "Matrix([\n",
       "[1, 0, 0, 3],\n",
       "[0, 1, 0, 1],\n",
       "[0, 0, 1, 0],\n",
       "[0, 0, 0, 0]])"
      ]
     },
     "execution_count": 4,
     "metadata": {},
     "output_type": "execute_result"
    }
   ],
   "source": [
    "# 最底行为0。取任意三个向量并列，构成方阵，如果出现全零行，就是线性相关组，反之就是线性无关组。\n",
    "# 只有[a1,a2,a3]是一个线性相关组。其余都是线性无关组。\n",
    "# 我们可以取 a1 a2 a4 表示 a3 a5\n",
    "\n",
    "Matrix([[a1,a2,a4,a3]]).rref()[0]\n",
    "# 由如下结果可知： a3 = 3*a1 + a2"
   ]
  },
  {
   "cell_type": "code",
   "execution_count": 5,
   "metadata": {},
   "outputs": [
    {
     "data": {
      "text/latex": [
       "$\\displaystyle \\left[\\begin{matrix}1 & 0 & 0 & - \\frac{1}{2}\\\\0 & 1 & 0 & 1\\\\0 & 0 & 1 & \\frac{5}{2}\\\\0 & 0 & 0 & 0\\end{matrix}\\right]$"
      ],
      "text/plain": [
       "Matrix([\n",
       "[1, 0, 0, -1/2],\n",
       "[0, 1, 0,    1],\n",
       "[0, 0, 1,  5/2],\n",
       "[0, 0, 0,    0]])"
      ]
     },
     "execution_count": 5,
     "metadata": {},
     "output_type": "execute_result"
    }
   ],
   "source": [
    "Matrix([[a1,a2,a4,a5]]).rref()[0]\n",
    "# 由如下结果可知：  a5 = -0.5*a1 + a2 + 2.5*a5  <<<<这里原答案有错，写成了a3"
   ]
  },
  {
   "cell_type": "code",
   "execution_count": null,
   "metadata": {},
   "outputs": [],
   "source": []
  }
 ],
 "metadata": {
  "kernelspec": {
   "display_name": "Python 3",
   "language": "python",
   "name": "python3"
  },
  "language_info": {
   "codemirror_mode": {
    "name": "ipython",
    "version": 3
   },
   "file_extension": ".py",
   "mimetype": "text/x-python",
   "name": "python",
   "nbconvert_exporter": "python",
   "pygments_lexer": "ipython3",
   "version": "3.8.0"
  }
 },
 "nbformat": 4,
 "nbformat_minor": 4
}

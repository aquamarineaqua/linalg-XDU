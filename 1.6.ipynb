{
 "cells": [
  {
   "cell_type": "code",
   "execution_count": 1,
   "metadata": {},
   "outputs": [
    {
     "data": {
      "text/latex": [
       "$\\displaystyle \\left[\\begin{matrix}0 & 0 & 0 & 1 & -1\\\\0 & 0 & 1 & 1 & 0\\\\0 & -1 & 0 & 0 & 1\\\\1 & 1 & 0 & 0 & 0\\\\-1 & 0 & 1 & 0 & 0\\end{matrix}\\right]$"
      ],
      "text/plain": [
       "Matrix([\n",
       "[ 0,  0, 0, 1, -1],\n",
       "[ 0,  0, 1, 1,  0],\n",
       "[ 0, -1, 0, 0,  1],\n",
       "[ 1,  1, 0, 0,  0],\n",
       "[-1,  0, 1, 0,  0]])"
      ]
     },
     "execution_count": 1,
     "metadata": {},
     "output_type": "execute_result"
    }
   ],
   "source": [
    "# 方程组为：\n",
    "# x4-x5=150-250=-100\n",
    "# x4+x3=700\n",
    "# x5-x2=600-300=300\n",
    "# x1+x2=250+50=300\n",
    "# x3-x1=300-100=200\n",
    "\n",
    "# 解法1：\n",
    "from sympy import Matrix\n",
    "A1 = Matrix([[0,0,0,1,-1],[0,0,1,1,0],[0,-1,0,0,1],[1,1,0,0,0],[-1,0,1,0,0]])\n",
    "A1"
   ]
  },
  {
   "cell_type": "code",
   "execution_count": 2,
   "metadata": {},
   "outputs": [
    {
     "data": {
      "text/latex": [
       "$\\displaystyle \\left[\\begin{matrix}-100\\\\700\\\\300\\\\300\\\\200\\end{matrix}\\right]$"
      ],
      "text/plain": [
       "Matrix([\n",
       "[-100],\n",
       "[ 700],\n",
       "[ 300],\n",
       "[ 300],\n",
       "[ 200]])"
      ]
     },
     "execution_count": 2,
     "metadata": {},
     "output_type": "execute_result"
    }
   ],
   "source": [
    "b1 = Matrix([[-100],[700],[300],[300],[200]])\n",
    "b1"
   ]
  },
  {
   "cell_type": "code",
   "execution_count": 4,
   "metadata": {},
   "outputs": [
    {
     "data": {
      "text/latex": [
       "$\\displaystyle \\left[\\begin{matrix}1 & 0 & 0 & 0 & 1 & 600\\\\0 & 1 & 0 & 0 & -1 & -300\\\\0 & 0 & 1 & 0 & 1 & 800\\\\0 & 0 & 0 & 1 & -1 & -100\\\\0 & 0 & 0 & 0 & 0 & 0\\end{matrix}\\right]$"
      ],
      "text/plain": [
       "Matrix([\n",
       "[1, 0, 0, 0,  1,  600],\n",
       "[0, 1, 0, 0, -1, -300],\n",
       "[0, 0, 1, 0,  1,  800],\n",
       "[0, 0, 0, 1, -1, -100],\n",
       "[0, 0, 0, 0,  0,    0]])"
      ]
     },
     "execution_count": 4,
     "metadata": {},
     "output_type": "execute_result"
    }
   ],
   "source": [
    "mat1_simp = Matrix([[A1,b1]]).rref()\n",
    "mat1_simp[0]\n",
    "# 方程组的秩次为4，x5为自由变量"
   ]
  },
  {
   "cell_type": "code",
   "execution_count": 6,
   "metadata": {},
   "outputs": [],
   "source": [
    "# 解法2：\n",
    "# x4-x5=-100\n",
    "# x4+x3=700\n",
    "# x5-x2=300\n",
    "# x1+x2=300\n",
    "# x3-x1=200\n",
    "from sympy import *"
   ]
  },
  {
   "cell_type": "code",
   "execution_count": 9,
   "metadata": {},
   "outputs": [
    {
     "data": {
      "text/latex": [
       "$\\displaystyle \\left\\{\\left( 600 - x_{5}, \\  x_{5} - 300, \\  800 - x_{5}, \\  x_{5} - 100, \\  x_{5}\\right)\\right\\}$"
      ],
      "text/plain": [
       "FiniteSet((600 - x5, x5 - 300, 800 - x5, x5 - 100, x5))"
      ]
     },
     "execution_count": 9,
     "metadata": {},
     "output_type": "execute_result"
    }
   ],
   "source": [
    "x1, x2, x3, x4, x5 = symbols('x1 x2 x3 x4 x5')\n",
    "linsolve([x4-x5+100, x4+x3-700, x5-x2-300, x1+x2-300, x3-x1-200], (x1, x2, x3, x4, x5))"
   ]
  },
  {
   "cell_type": "code",
   "execution_count": null,
   "metadata": {},
   "outputs": [],
   "source": [
    "# x5 表示可以取任何值而不影响方程组的自由变量，物理上是一个绕行的车流量。"
   ]
  }
 ],
 "metadata": {
  "kernelspec": {
   "display_name": "Python 3",
   "language": "python",
   "name": "python3"
  },
  "language_info": {
   "codemirror_mode": {
    "name": "ipython",
    "version": 3
   },
   "file_extension": ".py",
   "mimetype": "text/x-python",
   "name": "python",
   "nbconvert_exporter": "python",
   "pygments_lexer": "ipython3",
   "version": "3.8.0"
  }
 },
 "nbformat": 4,
 "nbformat_minor": 4
}

{
 "cells": [
  {
   "cell_type": "code",
   "execution_count": 1,
   "metadata": {},
   "outputs": [
    {
     "data": {
      "text/latex": [
       "$\\displaystyle \\left[\\begin{matrix}2 & 4 & 8\\\\4 & 3 & 9\\\\8 & 9 & 0\\end{matrix}\\right]$"
      ],
      "text/plain": [
       "Matrix([\n",
       "[2, 4, 8],\n",
       "[4, 3, 9],\n",
       "[8, 9, 0]])"
      ]
     },
     "execution_count": 1,
     "metadata": {},
     "output_type": "execute_result"
    }
   ],
   "source": [
    "from sympy import Matrix\n",
    "from sympy import *\n",
    "\n",
    "# ==================3.11===================\n",
    "\n",
    "# 用消元法把 A=[2,4,8;4,3,9;8,9,0] 简化成 A=LU，求 L, U, A, U^-1,L^-1 及 U^-1L^-1A 的行列式。\n",
    "# 解：A=[2,4,8;4,3,9;8,9,0], [L,U]=lu(A), detL=det (L), detU=det(U), detA=det(A)\n",
    "# 得到：detL = 1, detU = 222, detA = 222，det(U^-1L^-1)=1/det(LU)=0.0045, det(U^-1L^-1A)=1\n",
    "\n",
    "A = Matrix([[2,4,8],[4,3,9],[8,9,0]])\n",
    "A"
   ]
  },
  {
   "cell_type": "code",
   "execution_count": 2,
   "metadata": {},
   "outputs": [
    {
     "data": {
      "text/latex": [
       "$\\displaystyle 1$"
      ],
      "text/plain": [
       "1"
      ]
     },
     "execution_count": 2,
     "metadata": {},
     "output_type": "execute_result"
    }
   ],
   "source": [
    "L, U, _ = A.LUdecomposition()\n",
    "L.det()"
   ]
  },
  {
   "cell_type": "code",
   "execution_count": 3,
   "metadata": {},
   "outputs": [
    {
     "data": {
      "text/latex": [
       "$\\displaystyle 222$"
      ],
      "text/plain": [
       "222"
      ]
     },
     "execution_count": 3,
     "metadata": {},
     "output_type": "execute_result"
    }
   ],
   "source": [
    "U.det()"
   ]
  },
  {
   "cell_type": "code",
   "execution_count": 4,
   "metadata": {},
   "outputs": [
    {
     "data": {
      "text/latex": [
       "$\\displaystyle 222$"
      ],
      "text/plain": [
       "222"
      ]
     },
     "execution_count": 4,
     "metadata": {},
     "output_type": "execute_result"
    }
   ],
   "source": [
    "A.det()"
   ]
  },
  {
   "cell_type": "code",
   "execution_count": 18,
   "metadata": {},
   "outputs": [
    {
     "data": {
      "text/plain": [
       "0.0045045045045045045"
      ]
     },
     "execution_count": 18,
     "metadata": {},
     "output_type": "execute_result"
    }
   ],
   "source": [
    "u1=((U.inv())*(L.inv())).det()\n",
    "float(u1)"
   ]
  },
  {
   "cell_type": "code",
   "execution_count": 20,
   "metadata": {},
   "outputs": [
    {
     "data": {
      "text/latex": [
       "$\\displaystyle 1$"
      ],
      "text/plain": [
       "1"
      ]
     },
     "execution_count": 20,
     "metadata": {},
     "output_type": "execute_result"
    }
   ],
   "source": [
    "((U.inv())*(L.inv())*A).inv().det()"
   ]
  },
  {
   "cell_type": "code",
   "execution_count": null,
   "metadata": {},
   "outputs": [],
   "source": [
    "# ==================3.12===================\n",
    "\n",
    "# 设平面三角形的三个顶点坐标为 z1=[x1,y1], z2=[x2,y2], z3=[x3,y3]，试写出计算其面积的子程序。\n",
    "# 规定该子程序的程序头具有以下的基本格式：\n",
    "#     function A=triarea(z1,z2,z3)\n",
    "#     (注：下面三行是注释语句，在用 help triarea 命令时显示)\n",
    "#     % function A=triarea(z1,z2,z3)\n",
    "#     % 根据三角形的三个顶点坐标 z1,z2,z3，计算其面积 A 的子程序\n",
    "#     % z1=[x1,y1],z2=[x2,y2],z3=[x3,y3]各为三个顶点的 1×2 坐标向量\n",
    "#\n",
    "# 解：子程序内容为: A=0.5*det(z2-z1;z3-z1);\n",
    "# 用 3.5 题的数据：z1=[1,2];z2=[3,3];z3=[2,1];赋值后键入 A=triarea(z1,z2,3)，得到 A=1.5，结果正确。"
   ]
  },
  {
   "cell_type": "code",
   "execution_count": 33,
   "metadata": {},
   "outputs": [
    {
     "data": {
      "text/latex": [
       "$\\displaystyle -1.5$"
      ],
      "text/plain": [
       "-1.50000000000000"
      ]
     },
     "execution_count": 33,
     "metadata": {},
     "output_type": "execute_result"
    }
   ],
   "source": [
    "def triarea(z1,z2,z3):\n",
    "    '''\n",
    "    % 函数为triarea(z1,z2,z3)\n",
    "    % 根据三角形的三个顶点坐标 z1,z2,z3，计算其面积 A 的子程序\n",
    "    % z1=[x1,y1],z2=[x2,y2],z3=[x3,y3]各为三个顶点的 1×2 坐标向量\n",
    "    '''\n",
    "    area = Matrix([[(Matrix(z2)-Matrix(z1)),(Matrix(z3)-Matrix(z1))]]).det()*0.5\n",
    "    return area\n",
    "\n",
    "Z1=[1,2]\n",
    "Z2=[3,3]\n",
    "Z3=[2,1]\n",
    "triarea(Z1,Z2,Z3)"
   ]
  },
  {
   "cell_type": "code",
   "execution_count": 34,
   "metadata": {},
   "outputs": [
    {
     "name": "stdout",
     "output_type": "stream",
     "text": [
      "Help on function triarea in module __main__:\n",
      "\n",
      "triarea(z1, z2, z3)\n",
      "    % 函数为triarea(z1,z2,z3)\n",
      "    % 根据三角形的三个顶点坐标 z1,z2,z3，计算其面积 A 的子程序\n",
      "    % z1=[x1,y1],z2=[x2,y2],z3=[x3,y3]各为三个顶点的 1×2 坐标向量\n",
      "\n"
     ]
    }
   ],
   "source": [
    "help(triarea)\n",
    "# 注释语句"
   ]
  },
  {
   "cell_type": "code",
   "execution_count": null,
   "metadata": {},
   "outputs": [],
   "source": []
  }
 ],
 "metadata": {
  "kernelspec": {
   "display_name": "Python 3",
   "language": "python",
   "name": "python3"
  },
  "language_info": {
   "codemirror_mode": {
    "name": "ipython",
    "version": 3
   },
   "file_extension": ".py",
   "mimetype": "text/x-python",
   "name": "python",
   "nbconvert_exporter": "python",
   "pygments_lexer": "ipython3",
   "version": "3.8.0"
  }
 },
 "nbformat": 4,
 "nbformat_minor": 4
}

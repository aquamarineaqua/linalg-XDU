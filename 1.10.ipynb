{
 "cells": [
  {
   "cell_type": "code",
   "execution_count": 2,
   "metadata": {},
   "outputs": [
    {
     "data": {
      "text/latex": [
       "$\\displaystyle \\left[\\begin{matrix}-1 & 0 & 3 & 0 & 0 & 0\\\\0 & -1 & 0 & 2 & 0 & 0\\\\0 & -2 & 0 & 0 & 1 & 0\\\\-6 & 0 & 0 & 0 & 0 & 1\\\\0 & -8 & 4 & 3 & 2 & 1\\end{matrix}\\right]$"
      ],
      "text/plain": [
       "Matrix([\n",
       "[-1,  0, 3, 0, 0, 0],\n",
       "[ 0, -1, 0, 2, 0, 0],\n",
       "[ 0, -2, 0, 0, 1, 0],\n",
       "[-6,  0, 0, 0, 0, 1],\n",
       "[ 0, -8, 4, 3, 2, 1]])"
      ]
     },
     "execution_count": 2,
     "metadata": {},
     "output_type": "execute_result"
    }
   ],
   "source": [
    "# 配平化学方程式，方程组如下：\n",
    "# Pb: x1=3x3\n",
    "# Cr: x2=2x4\n",
    "# Mn: 2x2=x5\n",
    "# N: 6x1=x6\n",
    "# O: 8x2=4x3+3x4+2x5+x6\n",
    "\n",
    "from sympy import Matrix\n",
    "from sympy import *\n",
    "\n",
    "A = Matrix([[-1,0,3,0,0,0],[0,-1,0,2,0,0],[0,-2,0,0,1,0],[-6,0,0,0,0,1],[0,-8,4, 3,2,1]])\n",
    "A"
   ]
  },
  {
   "cell_type": "code",
   "execution_count": 4,
   "metadata": {},
   "outputs": [
    {
     "data": {
      "text/latex": [
       "$\\displaystyle \\left[\\begin{matrix}0\\\\0\\\\0\\\\0\\\\0\\end{matrix}\\right]$"
      ],
      "text/plain": [
       "Matrix([\n",
       "[0],\n",
       "[0],\n",
       "[0],\n",
       "[0],\n",
       "[0]])"
      ]
     },
     "execution_count": 4,
     "metadata": {},
     "output_type": "execute_result"
    }
   ],
   "source": [
    "b = Matrix([0,0,0,0,0])\n",
    "b"
   ]
  },
  {
   "cell_type": "code",
   "execution_count": 9,
   "metadata": {},
   "outputs": [
    {
     "data": {
      "text/latex": [
       "$\\displaystyle \\left[\\begin{matrix}1 & 0 & 0 & 0 & 0 & - \\frac{1}{6} & 0\\\\0 & 1 & 0 & 0 & 0 & - \\frac{22}{45} & 0\\\\0 & 0 & 1 & 0 & 0 & - \\frac{1}{18} & 0\\\\0 & 0 & 0 & 1 & 0 & - \\frac{11}{45} & 0\\\\0 & 0 & 0 & 0 & 1 & - \\frac{44}{45} & 0\\end{matrix}\\right]$"
      ],
      "text/plain": [
       "Matrix([\n",
       "[1, 0, 0, 0, 0,   -1/6, 0],\n",
       "[0, 1, 0, 0, 0, -22/45, 0],\n",
       "[0, 0, 1, 0, 0,  -1/18, 0],\n",
       "[0, 0, 0, 1, 0, -11/45, 0],\n",
       "[0, 0, 0, 0, 1, -44/45, 0]])"
      ]
     },
     "execution_count": 9,
     "metadata": {},
     "output_type": "execute_result"
    }
   ],
   "source": [
    "Re = Matrix([[A,b]]).rref()[0]\n",
    "Re"
   ]
  },
  {
   "cell_type": "code",
   "execution_count": 12,
   "metadata": {},
   "outputs": [
    {
     "data": {
      "text/latex": [
       "$\\displaystyle \\left[\\begin{matrix}90 & 0 & 0 & 0 & 0 & -15 & 0\\\\0 & 90 & 0 & 0 & 0 & -44 & 0\\\\0 & 0 & 90 & 0 & 0 & -5 & 0\\\\0 & 0 & 0 & 90 & 0 & -22 & 0\\\\0 & 0 & 0 & 0 & 90 & -88 & 0\\end{matrix}\\right]$"
      ],
      "text/plain": [
       "Matrix([\n",
       "[90,  0,  0,  0,  0, -15, 0],\n",
       "[ 0, 90,  0,  0,  0, -44, 0],\n",
       "[ 0,  0, 90,  0,  0,  -5, 0],\n",
       "[ 0,  0,  0, 90,  0, -22, 0],\n",
       "[ 0,  0,  0,  0, 90, -88, 0]])"
      ]
     },
     "execution_count": 12,
     "metadata": {},
     "output_type": "execute_result"
    }
   ],
   "source": [
    "# 选 x6=45*2=90 才能保证解为最小的正整数\n",
    "# 配平方程为：\n",
    "90*Re\n",
    "\n",
    "#系数为 15，44，5，22，88，90"
   ]
  },
  {
   "cell_type": "code",
   "execution_count": null,
   "metadata": {},
   "outputs": [],
   "source": []
  }
 ],
 "metadata": {
  "kernelspec": {
   "display_name": "Python 3",
   "language": "python",
   "name": "python3"
  },
  "language_info": {
   "codemirror_mode": {
    "name": "ipython",
    "version": 3
   },
   "file_extension": ".py",
   "mimetype": "text/x-python",
   "name": "python",
   "nbconvert_exporter": "python",
   "pygments_lexer": "ipython3",
   "version": "3.8.0"
  }
 },
 "nbformat": 4,
 "nbformat_minor": 4
}

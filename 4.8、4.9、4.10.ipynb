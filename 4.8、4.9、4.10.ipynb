{
 "cells": [
  {
   "cell_type": "code",
   "execution_count": 1,
   "metadata": {},
   "outputs": [
    {
     "data": {
      "text/latex": [
       "$\\displaystyle \\left[\\begin{matrix}3 & 2 & 1 & -3 & -2\\\\2 & -1 & 3 & 1 & -3\\\\7 & 2 & 5 & -4 & -3\\end{matrix}\\right]$"
      ],
      "text/plain": [
       "Matrix([\n",
       "[3,  2, 1, -3, -2],\n",
       "[2, -1, 3,  1, -3],\n",
       "[7,  2, 5, -4, -3]])"
      ]
     },
     "execution_count": 1,
     "metadata": {},
     "output_type": "execute_result"
    }
   ],
   "source": [
    "from sympy import *\n",
    "\n",
    "# =======4.8========\n",
    "# 判断哪几个向量组成线性无关组。\n",
    "# M=[3,2,1,-3,- 2;2,-1,3,1,-3;7,2,5,-4,-3] <<<原题干应该有误，a3应为[1,3,5]’\n",
    "\n",
    "a1 = Matrix([3,2,7])\n",
    "a2 = Matrix([2,-1,2])\n",
    "a3 = Matrix([1,3,5])\n",
    "a4 = Matrix([-3,1,-4])\n",
    "a5 = Matrix([-2,-3,-3])\n",
    "M = Matrix([[a1,a2,a3,a4,a5]])\n",
    "M"
   ]
  },
  {
   "cell_type": "code",
   "execution_count": 2,
   "metadata": {},
   "outputs": [
    {
     "data": {
      "text/latex": [
       "$\\displaystyle \\left[\\begin{matrix}1 & 0 & 1 & 0 & - \\frac{7}{3}\\\\0 & 1 & -1 & 0 & -10\\\\0 & 0 & 0 & 1 & - \\frac{25}{3}\\end{matrix}\\right]$"
      ],
      "text/plain": [
       "Matrix([\n",
       "[1, 0,  1, 0,  -7/3],\n",
       "[0, 1, -1, 0,   -10],\n",
       "[0, 0,  0, 1, -25/3]])"
      ]
     },
     "execution_count": 2,
     "metadata": {},
     "output_type": "execute_result"
    }
   ],
   "source": [
    "M.rref()[0]\n",
    "# 由行最简形可判断，只有a1,a2,a3构成的行最简形矩阵有全零行，行列式为0，其余三个的组合行列式均不为0\n",
    "# 因此除了a1,a2,a3组成线性相关组，其余均为线性无关组。"
   ]
  },
  {
   "cell_type": "code",
   "execution_count": 3,
   "metadata": {},
   "outputs": [
    {
     "data": {
      "text/latex": [
       "$\\displaystyle \\left[\\begin{matrix}4 & 1 & 3 & 1\\\\5 & 3 & 4 & 1\\\\6 & 1 & 3 & 2\\end{matrix}\\right]$"
      ],
      "text/plain": [
       "Matrix([\n",
       "[4, 1, 3, 1],\n",
       "[5, 3, 4, 1],\n",
       "[6, 1, 3, 2]])"
      ]
     },
     "execution_count": 3,
     "metadata": {},
     "output_type": "execute_result"
    }
   ],
   "source": [
    "\n",
    "# =======4.9========\n",
    "# 求由向量 a1,a2,a3,a4 所张的向量空间的一组基，确定这四个向量的线性相关关系式。\n",
    "# Matlab解：a1=[4;5;6], a2=[1;3;1], a3=[3;4;3], a4=[1;1;2], A=[a1,a2,a3,a4], U0a=rref(A)\n",
    "\n",
    "aa1 = Matrix([4,5,6])\n",
    "aa2 = Matrix([1,3,1])\n",
    "aa3 = Matrix([3,4,3])\n",
    "aa4 = Matrix([1,1,2])\n",
    "A = Matrix([[aa1,aa2,aa3,aa4]])\n",
    "A"
   ]
  },
  {
   "cell_type": "code",
   "execution_count": 4,
   "metadata": {},
   "outputs": [
    {
     "data": {
      "text/latex": [
       "$\\displaystyle \\left[\\begin{matrix}1 & 0 & 0 & \\frac{1}{2}\\\\0 & 1 & 0 & - \\frac{1}{10}\\\\0 & 0 & 1 & - \\frac{3}{10}\\end{matrix}\\right]$"
      ],
      "text/plain": [
       "Matrix([\n",
       "[1, 0, 0,   1/2],\n",
       "[0, 1, 0, -1/10],\n",
       "[0, 0, 1, -3/10]])"
      ]
     },
     "execution_count": 4,
     "metadata": {},
     "output_type": "execute_result"
    }
   ],
   "source": [
    "A.rref()[0]\n",
    "# 线性相关关系式为 a4 = 0.5a1 - 0.1a2 - 0.3a3"
   ]
  },
  {
   "cell_type": "code",
   "execution_count": 5,
   "metadata": {},
   "outputs": [
    {
     "data": {
      "text/latex": [
       "$\\displaystyle \\left[\\begin{matrix}b_{1}\\\\b_{2}\\\\b_{3}\\end{matrix}\\right]$"
      ],
      "text/plain": [
       "Matrix([\n",
       "[b1],\n",
       "[b2],\n",
       "[b3]])"
      ]
     },
     "execution_count": 5,
     "metadata": {},
     "output_type": "execute_result"
    }
   ],
   "source": [
    "\n",
    "# ========4.10========\n",
    "# 设 H 为由v1=[5,3,8]',v2=[1,3,4]'所张成的向量空间，现有一个向量b=[b1,b2,b3]',问b的三个分量应该满足什么条件才能保证b在H空间中？\n",
    "# 解：b 必须是 v1 和 v2 的线性组合，b=c1*v1+c2*v2\n",
    "\n",
    "v1 = Matrix([5,3,8])\n",
    "v2 = Matrix([1,3,4])\n",
    "c1, c2, b1,b2,b3 = symbols('c1 c2 b1 b2 b3')\n",
    "b = Matrix([b1,b2,b3])\n",
    "b"
   ]
  },
  {
   "cell_type": "code",
   "execution_count": 7,
   "metadata": {},
   "outputs": [
    {
     "data": {
      "text/latex": [
       "$\\displaystyle \\left[\\begin{matrix}5 c_{1} + c_{2}\\\\3 c_{1} + 3 c_{2}\\\\8 c_{1} + 4 c_{2}\\end{matrix}\\right]$"
      ],
      "text/plain": [
       "Matrix([\n",
       "[  5*c1 + c2],\n",
       "[3*c1 + 3*c2],\n",
       "[8*c1 + 4*c2]])"
      ]
     },
     "execution_count": 7,
     "metadata": {},
     "output_type": "execute_result"
    }
   ],
   "source": [
    "b = c1*v1 + c2*v2\n",
    "b"
   ]
  },
  {
   "cell_type": "code",
   "execution_count": null,
   "metadata": {},
   "outputs": [],
   "source": []
  }
 ],
 "metadata": {
  "kernelspec": {
   "display_name": "Python 3",
   "language": "python",
   "name": "python3"
  },
  "language_info": {
   "codemirror_mode": {
    "name": "ipython",
    "version": 3
   },
   "file_extension": ".py",
   "mimetype": "text/x-python",
   "name": "python",
   "nbconvert_exporter": "python",
   "pygments_lexer": "ipython3",
   "version": "3.8.0"
  }
 },
 "nbformat": 4,
 "nbformat_minor": 4
}
